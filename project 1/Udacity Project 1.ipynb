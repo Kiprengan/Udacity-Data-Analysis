{
 "cells": [
  {
   "cell_type": "markdown",
   "id": "17ac6063",
   "metadata": {},
   "source": [
    "## Poject: Investigate a Dataset - TMDB 5000 Movie Dataset\n",
    "## NAME : DENIS KIPRONO"
   ]
  },
  {
   "cell_type": "markdown",
   "id": "fe5eb51d",
   "metadata": {},
   "source": [
    "## Introduction\n",
    "### Dataset Describtion\n",
    "TMDB 5000 Movie dataset contains information about movies collected from The Movie Database (TMDb). My purpose of using this dataset is to be able to answer formulated questions based of analysis using python. By using this dataset I agree with terms and condition provided.\n",
    "### Questions for analysis\n",
    "Every organizational setup is interested on all the efforts that would put every action they take at optimal state so as to naximize earning their profits. In this era informative steps for decision making is relied of data that the company has based on expertize findings by data analyst. I am here to analyse this movie dataset so that I uncover some hidden trends and be able to communicate my findings and conclusion which subject expert can easily vet as proposal to be considered. \n",
    "#### Question 1\n",
    "Directors play a greater role in movie productions. I want to run the best director awards and for this reason I want look into the intereactions between director variable  with others so that I can determine whom will win the awards.\n",
    "#### Question 2.\n",
    "Optimizing resources is important aspect when it comes to any business setup. I am interested on how to play cards so that I realize best best variables to keep into consideration against months of the year. By this I mean which is the best for movie industry to release their product. "
   ]
  },
  {
   "cell_type": "markdown",
   "id": "494d25ab",
   "metadata": {},
   "source": [
    "# Section 1 : Libraries importatation, Read csv and load dataframes, overview of the dataframes."
   ]
  },
  {
   "cell_type": "code",
   "execution_count": 1,
   "id": "5f16c5ff",
   "metadata": {},
   "outputs": [],
   "source": [
    "# Here I imported libraries that are critical so as to allow me successfully complete my data analysis task\n",
    "import numpy as np # to enable me work with numerical data easily and faster\n",
    "import pandas as pd # to allow manipulationof dataframes like reading csv files.\n",
    "import matplotlib.pyplot as plt # for plotting purposes\n",
    "import seaborn as sb # Rendering visuals nicely\n",
    "import ast\n",
    "dfm = pd.read_csv('tmdb-movies.csv') # read tmdb-movies and load it to movies dataframe as dfm\n"
   ]
  },
  {
   "cell_type": "code",
   "execution_count": 2,
   "id": "f05016c4",
   "metadata": {},
   "outputs": [
    {
     "data": {
      "text/html": [
       "<div>\n",
       "<style scoped>\n",
       "    .dataframe tbody tr th:only-of-type {\n",
       "        vertical-align: middle;\n",
       "    }\n",
       "\n",
       "    .dataframe tbody tr th {\n",
       "        vertical-align: top;\n",
       "    }\n",
       "\n",
       "    .dataframe thead th {\n",
       "        text-align: right;\n",
       "    }\n",
       "</style>\n",
       "<table border=\"1\" class=\"dataframe\">\n",
       "  <thead>\n",
       "    <tr style=\"text-align: right;\">\n",
       "      <th></th>\n",
       "      <th>id</th>\n",
       "      <th>imdb_id</th>\n",
       "      <th>popularity</th>\n",
       "      <th>budget</th>\n",
       "      <th>revenue</th>\n",
       "      <th>original_title</th>\n",
       "      <th>cast</th>\n",
       "      <th>homepage</th>\n",
       "      <th>director</th>\n",
       "      <th>tagline</th>\n",
       "      <th>...</th>\n",
       "      <th>overview</th>\n",
       "      <th>runtime</th>\n",
       "      <th>genres</th>\n",
       "      <th>production_companies</th>\n",
       "      <th>release_date</th>\n",
       "      <th>vote_count</th>\n",
       "      <th>vote_average</th>\n",
       "      <th>release_year</th>\n",
       "      <th>budget_adj</th>\n",
       "      <th>revenue_adj</th>\n",
       "    </tr>\n",
       "  </thead>\n",
       "  <tbody>\n",
       "    <tr>\n",
       "      <th>0</th>\n",
       "      <td>135397</td>\n",
       "      <td>tt0369610</td>\n",
       "      <td>32.985763</td>\n",
       "      <td>150000000</td>\n",
       "      <td>1513528810</td>\n",
       "      <td>Jurassic World</td>\n",
       "      <td>Chris Pratt|Bryce Dallas Howard|Irrfan Khan|Vi...</td>\n",
       "      <td>http://www.jurassicworld.com/</td>\n",
       "      <td>Colin Trevorrow</td>\n",
       "      <td>The park is open.</td>\n",
       "      <td>...</td>\n",
       "      <td>Twenty-two years after the events of Jurassic ...</td>\n",
       "      <td>124</td>\n",
       "      <td>Action|Adventure|Science Fiction|Thriller</td>\n",
       "      <td>Universal Studios|Amblin Entertainment|Legenda...</td>\n",
       "      <td>6/9/15</td>\n",
       "      <td>5562</td>\n",
       "      <td>6.5</td>\n",
       "      <td>2015</td>\n",
       "      <td>1.379999e+08</td>\n",
       "      <td>1.392446e+09</td>\n",
       "    </tr>\n",
       "    <tr>\n",
       "      <th>1</th>\n",
       "      <td>76341</td>\n",
       "      <td>tt1392190</td>\n",
       "      <td>28.419936</td>\n",
       "      <td>150000000</td>\n",
       "      <td>378436354</td>\n",
       "      <td>Mad Max: Fury Road</td>\n",
       "      <td>Tom Hardy|Charlize Theron|Hugh Keays-Byrne|Nic...</td>\n",
       "      <td>http://www.madmaxmovie.com/</td>\n",
       "      <td>George Miller</td>\n",
       "      <td>What a Lovely Day.</td>\n",
       "      <td>...</td>\n",
       "      <td>An apocalyptic story set in the furthest reach...</td>\n",
       "      <td>120</td>\n",
       "      <td>Action|Adventure|Science Fiction|Thriller</td>\n",
       "      <td>Village Roadshow Pictures|Kennedy Miller Produ...</td>\n",
       "      <td>5/13/15</td>\n",
       "      <td>6185</td>\n",
       "      <td>7.1</td>\n",
       "      <td>2015</td>\n",
       "      <td>1.379999e+08</td>\n",
       "      <td>3.481613e+08</td>\n",
       "    </tr>\n",
       "    <tr>\n",
       "      <th>2</th>\n",
       "      <td>262500</td>\n",
       "      <td>tt2908446</td>\n",
       "      <td>13.112507</td>\n",
       "      <td>110000000</td>\n",
       "      <td>295238201</td>\n",
       "      <td>Insurgent</td>\n",
       "      <td>Shailene Woodley|Theo James|Kate Winslet|Ansel...</td>\n",
       "      <td>http://www.thedivergentseries.movie/#insurgent</td>\n",
       "      <td>Robert Schwentke</td>\n",
       "      <td>One Choice Can Destroy You</td>\n",
       "      <td>...</td>\n",
       "      <td>Beatrice Prior must confront her inner demons ...</td>\n",
       "      <td>119</td>\n",
       "      <td>Adventure|Science Fiction|Thriller</td>\n",
       "      <td>Summit Entertainment|Mandeville Films|Red Wago...</td>\n",
       "      <td>3/18/15</td>\n",
       "      <td>2480</td>\n",
       "      <td>6.3</td>\n",
       "      <td>2015</td>\n",
       "      <td>1.012000e+08</td>\n",
       "      <td>2.716190e+08</td>\n",
       "    </tr>\n",
       "    <tr>\n",
       "      <th>3</th>\n",
       "      <td>140607</td>\n",
       "      <td>tt2488496</td>\n",
       "      <td>11.173104</td>\n",
       "      <td>200000000</td>\n",
       "      <td>2068178225</td>\n",
       "      <td>Star Wars: The Force Awakens</td>\n",
       "      <td>Harrison Ford|Mark Hamill|Carrie Fisher|Adam D...</td>\n",
       "      <td>http://www.starwars.com/films/star-wars-episod...</td>\n",
       "      <td>J.J. Abrams</td>\n",
       "      <td>Every generation has a story.</td>\n",
       "      <td>...</td>\n",
       "      <td>Thirty years after defeating the Galactic Empi...</td>\n",
       "      <td>136</td>\n",
       "      <td>Action|Adventure|Science Fiction|Fantasy</td>\n",
       "      <td>Lucasfilm|Truenorth Productions|Bad Robot</td>\n",
       "      <td>12/15/15</td>\n",
       "      <td>5292</td>\n",
       "      <td>7.5</td>\n",
       "      <td>2015</td>\n",
       "      <td>1.839999e+08</td>\n",
       "      <td>1.902723e+09</td>\n",
       "    </tr>\n",
       "    <tr>\n",
       "      <th>4</th>\n",
       "      <td>168259</td>\n",
       "      <td>tt2820852</td>\n",
       "      <td>9.335014</td>\n",
       "      <td>190000000</td>\n",
       "      <td>1506249360</td>\n",
       "      <td>Furious 7</td>\n",
       "      <td>Vin Diesel|Paul Walker|Jason Statham|Michelle ...</td>\n",
       "      <td>http://www.furious7.com/</td>\n",
       "      <td>James Wan</td>\n",
       "      <td>Vengeance Hits Home</td>\n",
       "      <td>...</td>\n",
       "      <td>Deckard Shaw seeks revenge against Dominic Tor...</td>\n",
       "      <td>137</td>\n",
       "      <td>Action|Crime|Thriller</td>\n",
       "      <td>Universal Pictures|Original Film|Media Rights ...</td>\n",
       "      <td>4/1/15</td>\n",
       "      <td>2947</td>\n",
       "      <td>7.3</td>\n",
       "      <td>2015</td>\n",
       "      <td>1.747999e+08</td>\n",
       "      <td>1.385749e+09</td>\n",
       "    </tr>\n",
       "    <tr>\n",
       "      <th>...</th>\n",
       "      <td>...</td>\n",
       "      <td>...</td>\n",
       "      <td>...</td>\n",
       "      <td>...</td>\n",
       "      <td>...</td>\n",
       "      <td>...</td>\n",
       "      <td>...</td>\n",
       "      <td>...</td>\n",
       "      <td>...</td>\n",
       "      <td>...</td>\n",
       "      <td>...</td>\n",
       "      <td>...</td>\n",
       "      <td>...</td>\n",
       "      <td>...</td>\n",
       "      <td>...</td>\n",
       "      <td>...</td>\n",
       "      <td>...</td>\n",
       "      <td>...</td>\n",
       "      <td>...</td>\n",
       "      <td>...</td>\n",
       "      <td>...</td>\n",
       "    </tr>\n",
       "    <tr>\n",
       "      <th>10861</th>\n",
       "      <td>21</td>\n",
       "      <td>tt0060371</td>\n",
       "      <td>0.080598</td>\n",
       "      <td>0</td>\n",
       "      <td>0</td>\n",
       "      <td>The Endless Summer</td>\n",
       "      <td>Michael Hynson|Robert August|Lord 'Tally Ho' B...</td>\n",
       "      <td>NaN</td>\n",
       "      <td>Bruce Brown</td>\n",
       "      <td>NaN</td>\n",
       "      <td>...</td>\n",
       "      <td>The Endless Summer, by Bruce Brown, is one of ...</td>\n",
       "      <td>95</td>\n",
       "      <td>Documentary</td>\n",
       "      <td>Bruce Brown Films</td>\n",
       "      <td>6/15/66</td>\n",
       "      <td>11</td>\n",
       "      <td>7.4</td>\n",
       "      <td>1966</td>\n",
       "      <td>0.000000e+00</td>\n",
       "      <td>0.000000e+00</td>\n",
       "    </tr>\n",
       "    <tr>\n",
       "      <th>10862</th>\n",
       "      <td>20379</td>\n",
       "      <td>tt0060472</td>\n",
       "      <td>0.065543</td>\n",
       "      <td>0</td>\n",
       "      <td>0</td>\n",
       "      <td>Grand Prix</td>\n",
       "      <td>James Garner|Eva Marie Saint|Yves Montand|Tosh...</td>\n",
       "      <td>NaN</td>\n",
       "      <td>John Frankenheimer</td>\n",
       "      <td>Cinerama sweeps YOU into a drama of speed and ...</td>\n",
       "      <td>...</td>\n",
       "      <td>Grand Prix driver Pete Aron is fired by his te...</td>\n",
       "      <td>176</td>\n",
       "      <td>Action|Adventure|Drama</td>\n",
       "      <td>Cherokee Productions|Joel Productions|Douglas ...</td>\n",
       "      <td>12/21/66</td>\n",
       "      <td>20</td>\n",
       "      <td>5.7</td>\n",
       "      <td>1966</td>\n",
       "      <td>0.000000e+00</td>\n",
       "      <td>0.000000e+00</td>\n",
       "    </tr>\n",
       "    <tr>\n",
       "      <th>10863</th>\n",
       "      <td>39768</td>\n",
       "      <td>tt0060161</td>\n",
       "      <td>0.065141</td>\n",
       "      <td>0</td>\n",
       "      <td>0</td>\n",
       "      <td>Beregis Avtomobilya</td>\n",
       "      <td>Innokentiy Smoktunovskiy|Oleg Efremov|Georgi Z...</td>\n",
       "      <td>NaN</td>\n",
       "      <td>Eldar Ryazanov</td>\n",
       "      <td>NaN</td>\n",
       "      <td>...</td>\n",
       "      <td>An insurance agent who moonlights as a carthie...</td>\n",
       "      <td>94</td>\n",
       "      <td>Mystery|Comedy</td>\n",
       "      <td>Mosfilm</td>\n",
       "      <td>1/1/66</td>\n",
       "      <td>11</td>\n",
       "      <td>6.5</td>\n",
       "      <td>1966</td>\n",
       "      <td>0.000000e+00</td>\n",
       "      <td>0.000000e+00</td>\n",
       "    </tr>\n",
       "    <tr>\n",
       "      <th>10864</th>\n",
       "      <td>21449</td>\n",
       "      <td>tt0061177</td>\n",
       "      <td>0.064317</td>\n",
       "      <td>0</td>\n",
       "      <td>0</td>\n",
       "      <td>What's Up, Tiger Lily?</td>\n",
       "      <td>Tatsuya Mihashi|Akiko Wakabayashi|Mie Hama|Joh...</td>\n",
       "      <td>NaN</td>\n",
       "      <td>Woody Allen</td>\n",
       "      <td>WOODY ALLEN STRIKES BACK!</td>\n",
       "      <td>...</td>\n",
       "      <td>In comic Woody Allen's film debut, he took the...</td>\n",
       "      <td>80</td>\n",
       "      <td>Action|Comedy</td>\n",
       "      <td>Benedict Pictures Corp.</td>\n",
       "      <td>11/2/66</td>\n",
       "      <td>22</td>\n",
       "      <td>5.4</td>\n",
       "      <td>1966</td>\n",
       "      <td>0.000000e+00</td>\n",
       "      <td>0.000000e+00</td>\n",
       "    </tr>\n",
       "    <tr>\n",
       "      <th>10865</th>\n",
       "      <td>22293</td>\n",
       "      <td>tt0060666</td>\n",
       "      <td>0.035919</td>\n",
       "      <td>19000</td>\n",
       "      <td>0</td>\n",
       "      <td>Manos: The Hands of Fate</td>\n",
       "      <td>Harold P. Warren|Tom Neyman|John Reynolds|Dian...</td>\n",
       "      <td>NaN</td>\n",
       "      <td>Harold P. Warren</td>\n",
       "      <td>It's Shocking! It's Beyond Your Imagination!</td>\n",
       "      <td>...</td>\n",
       "      <td>A family gets lost on the road and stumbles up...</td>\n",
       "      <td>74</td>\n",
       "      <td>Horror</td>\n",
       "      <td>Norm-Iris</td>\n",
       "      <td>11/15/66</td>\n",
       "      <td>15</td>\n",
       "      <td>1.5</td>\n",
       "      <td>1966</td>\n",
       "      <td>1.276423e+05</td>\n",
       "      <td>0.000000e+00</td>\n",
       "    </tr>\n",
       "  </tbody>\n",
       "</table>\n",
       "<p>10866 rows × 21 columns</p>\n",
       "</div>"
      ],
      "text/plain": [
       "           id    imdb_id  popularity     budget     revenue  \\\n",
       "0      135397  tt0369610   32.985763  150000000  1513528810   \n",
       "1       76341  tt1392190   28.419936  150000000   378436354   \n",
       "2      262500  tt2908446   13.112507  110000000   295238201   \n",
       "3      140607  tt2488496   11.173104  200000000  2068178225   \n",
       "4      168259  tt2820852    9.335014  190000000  1506249360   \n",
       "...       ...        ...         ...        ...         ...   \n",
       "10861      21  tt0060371    0.080598          0           0   \n",
       "10862   20379  tt0060472    0.065543          0           0   \n",
       "10863   39768  tt0060161    0.065141          0           0   \n",
       "10864   21449  tt0061177    0.064317          0           0   \n",
       "10865   22293  tt0060666    0.035919      19000           0   \n",
       "\n",
       "                     original_title  \\\n",
       "0                    Jurassic World   \n",
       "1                Mad Max: Fury Road   \n",
       "2                         Insurgent   \n",
       "3      Star Wars: The Force Awakens   \n",
       "4                         Furious 7   \n",
       "...                             ...   \n",
       "10861            The Endless Summer   \n",
       "10862                    Grand Prix   \n",
       "10863           Beregis Avtomobilya   \n",
       "10864        What's Up, Tiger Lily?   \n",
       "10865      Manos: The Hands of Fate   \n",
       "\n",
       "                                                    cast  \\\n",
       "0      Chris Pratt|Bryce Dallas Howard|Irrfan Khan|Vi...   \n",
       "1      Tom Hardy|Charlize Theron|Hugh Keays-Byrne|Nic...   \n",
       "2      Shailene Woodley|Theo James|Kate Winslet|Ansel...   \n",
       "3      Harrison Ford|Mark Hamill|Carrie Fisher|Adam D...   \n",
       "4      Vin Diesel|Paul Walker|Jason Statham|Michelle ...   \n",
       "...                                                  ...   \n",
       "10861  Michael Hynson|Robert August|Lord 'Tally Ho' B...   \n",
       "10862  James Garner|Eva Marie Saint|Yves Montand|Tosh...   \n",
       "10863  Innokentiy Smoktunovskiy|Oleg Efremov|Georgi Z...   \n",
       "10864  Tatsuya Mihashi|Akiko Wakabayashi|Mie Hama|Joh...   \n",
       "10865  Harold P. Warren|Tom Neyman|John Reynolds|Dian...   \n",
       "\n",
       "                                                homepage            director  \\\n",
       "0                          http://www.jurassicworld.com/     Colin Trevorrow   \n",
       "1                            http://www.madmaxmovie.com/       George Miller   \n",
       "2         http://www.thedivergentseries.movie/#insurgent    Robert Schwentke   \n",
       "3      http://www.starwars.com/films/star-wars-episod...         J.J. Abrams   \n",
       "4                               http://www.furious7.com/           James Wan   \n",
       "...                                                  ...                 ...   \n",
       "10861                                                NaN         Bruce Brown   \n",
       "10862                                                NaN  John Frankenheimer   \n",
       "10863                                                NaN      Eldar Ryazanov   \n",
       "10864                                                NaN         Woody Allen   \n",
       "10865                                                NaN    Harold P. Warren   \n",
       "\n",
       "                                                 tagline  ...  \\\n",
       "0                                      The park is open.  ...   \n",
       "1                                     What a Lovely Day.  ...   \n",
       "2                             One Choice Can Destroy You  ...   \n",
       "3                          Every generation has a story.  ...   \n",
       "4                                    Vengeance Hits Home  ...   \n",
       "...                                                  ...  ...   \n",
       "10861                                                NaN  ...   \n",
       "10862  Cinerama sweeps YOU into a drama of speed and ...  ...   \n",
       "10863                                                NaN  ...   \n",
       "10864                          WOODY ALLEN STRIKES BACK!  ...   \n",
       "10865       It's Shocking! It's Beyond Your Imagination!  ...   \n",
       "\n",
       "                                                overview runtime  \\\n",
       "0      Twenty-two years after the events of Jurassic ...     124   \n",
       "1      An apocalyptic story set in the furthest reach...     120   \n",
       "2      Beatrice Prior must confront her inner demons ...     119   \n",
       "3      Thirty years after defeating the Galactic Empi...     136   \n",
       "4      Deckard Shaw seeks revenge against Dominic Tor...     137   \n",
       "...                                                  ...     ...   \n",
       "10861  The Endless Summer, by Bruce Brown, is one of ...      95   \n",
       "10862  Grand Prix driver Pete Aron is fired by his te...     176   \n",
       "10863  An insurance agent who moonlights as a carthie...      94   \n",
       "10864  In comic Woody Allen's film debut, he took the...      80   \n",
       "10865  A family gets lost on the road and stumbles up...      74   \n",
       "\n",
       "                                          genres  \\\n",
       "0      Action|Adventure|Science Fiction|Thriller   \n",
       "1      Action|Adventure|Science Fiction|Thriller   \n",
       "2             Adventure|Science Fiction|Thriller   \n",
       "3       Action|Adventure|Science Fiction|Fantasy   \n",
       "4                          Action|Crime|Thriller   \n",
       "...                                          ...   \n",
       "10861                                Documentary   \n",
       "10862                     Action|Adventure|Drama   \n",
       "10863                             Mystery|Comedy   \n",
       "10864                              Action|Comedy   \n",
       "10865                                     Horror   \n",
       "\n",
       "                                    production_companies release_date  \\\n",
       "0      Universal Studios|Amblin Entertainment|Legenda...       6/9/15   \n",
       "1      Village Roadshow Pictures|Kennedy Miller Produ...      5/13/15   \n",
       "2      Summit Entertainment|Mandeville Films|Red Wago...      3/18/15   \n",
       "3              Lucasfilm|Truenorth Productions|Bad Robot     12/15/15   \n",
       "4      Universal Pictures|Original Film|Media Rights ...       4/1/15   \n",
       "...                                                  ...          ...   \n",
       "10861                                  Bruce Brown Films      6/15/66   \n",
       "10862  Cherokee Productions|Joel Productions|Douglas ...     12/21/66   \n",
       "10863                                            Mosfilm       1/1/66   \n",
       "10864                            Benedict Pictures Corp.      11/2/66   \n",
       "10865                                          Norm-Iris     11/15/66   \n",
       "\n",
       "      vote_count  vote_average  release_year    budget_adj   revenue_adj  \n",
       "0           5562           6.5          2015  1.379999e+08  1.392446e+09  \n",
       "1           6185           7.1          2015  1.379999e+08  3.481613e+08  \n",
       "2           2480           6.3          2015  1.012000e+08  2.716190e+08  \n",
       "3           5292           7.5          2015  1.839999e+08  1.902723e+09  \n",
       "4           2947           7.3          2015  1.747999e+08  1.385749e+09  \n",
       "...          ...           ...           ...           ...           ...  \n",
       "10861         11           7.4          1966  0.000000e+00  0.000000e+00  \n",
       "10862         20           5.7          1966  0.000000e+00  0.000000e+00  \n",
       "10863         11           6.5          1966  0.000000e+00  0.000000e+00  \n",
       "10864         22           5.4          1966  0.000000e+00  0.000000e+00  \n",
       "10865         15           1.5          1966  1.276423e+05  0.000000e+00  \n",
       "\n",
       "[10866 rows x 21 columns]"
      ]
     },
     "execution_count": 2,
     "metadata": {},
     "output_type": "execute_result"
    }
   ],
   "source": [
    "dfm #shows the dataframe data by defaunt first 5 rows"
   ]
  },
  {
   "cell_type": "markdown",
   "id": "7046bd27",
   "metadata": {},
   "source": [
    "We can now clear see clear some of the columns have the data store as lists nested in strings. This will be addressed in data cleaning section. "
   ]
  },
  {
   "cell_type": "markdown",
   "id": "83298b29",
   "metadata": {},
   "source": [
    "We also note that credits dataframe has cast and crew column having lists nested in strings"
   ]
  },
  {
   "cell_type": "code",
   "execution_count": 3,
   "id": "794a120a",
   "metadata": {},
   "outputs": [
    {
     "data": {
      "text/plain": [
       "(10866, 21)"
      ]
     },
     "execution_count": 3,
     "metadata": {},
     "output_type": "execute_result"
    }
   ],
   "source": [
    "dfm.shape  # shows the number of columns and rows of movies dfm dataframe "
   ]
  },
  {
   "cell_type": "markdown",
   "id": "2a566f04",
   "metadata": {},
   "source": [
    "Movies dataframe has a total of 10866  rows of data and 21 columns."
   ]
  },
  {
   "cell_type": "code",
   "execution_count": 4,
   "id": "40a769d4",
   "metadata": {},
   "outputs": [
    {
     "data": {
      "text/plain": [
       "Index(['id', 'imdb_id', 'popularity', 'budget', 'revenue', 'original_title',\n",
       "       'cast', 'homepage', 'director', 'tagline', 'keywords', 'overview',\n",
       "       'runtime', 'genres', 'production_companies', 'release_date',\n",
       "       'vote_count', 'vote_average', 'release_year', 'budget_adj',\n",
       "       'revenue_adj'],\n",
       "      dtype='object')"
      ]
     },
     "execution_count": 4,
     "metadata": {},
     "output_type": "execute_result"
    }
   ],
   "source": [
    "dfm.columns # returns the list of columns of dfm dataframe"
   ]
  },
  {
   "cell_type": "code",
   "execution_count": 5,
   "id": "7daa8bea",
   "metadata": {},
   "outputs": [
    {
     "data": {
      "text/html": [
       "<div>\n",
       "<style scoped>\n",
       "    .dataframe tbody tr th:only-of-type {\n",
       "        vertical-align: middle;\n",
       "    }\n",
       "\n",
       "    .dataframe tbody tr th {\n",
       "        vertical-align: top;\n",
       "    }\n",
       "\n",
       "    .dataframe thead th {\n",
       "        text-align: right;\n",
       "    }\n",
       "</style>\n",
       "<table border=\"1\" class=\"dataframe\">\n",
       "  <thead>\n",
       "    <tr style=\"text-align: right;\">\n",
       "      <th></th>\n",
       "      <th>id</th>\n",
       "      <th>popularity</th>\n",
       "      <th>budget</th>\n",
       "      <th>revenue</th>\n",
       "      <th>runtime</th>\n",
       "      <th>vote_count</th>\n",
       "      <th>vote_average</th>\n",
       "      <th>release_year</th>\n",
       "      <th>budget_adj</th>\n",
       "      <th>revenue_adj</th>\n",
       "    </tr>\n",
       "  </thead>\n",
       "  <tbody>\n",
       "    <tr>\n",
       "      <th>count</th>\n",
       "      <td>10866.000000</td>\n",
       "      <td>10866.000000</td>\n",
       "      <td>1.086600e+04</td>\n",
       "      <td>1.086600e+04</td>\n",
       "      <td>10866.000000</td>\n",
       "      <td>10866.000000</td>\n",
       "      <td>10866.000000</td>\n",
       "      <td>10866.000000</td>\n",
       "      <td>1.086600e+04</td>\n",
       "      <td>1.086600e+04</td>\n",
       "    </tr>\n",
       "    <tr>\n",
       "      <th>mean</th>\n",
       "      <td>66064.177434</td>\n",
       "      <td>0.646441</td>\n",
       "      <td>1.462570e+07</td>\n",
       "      <td>3.982332e+07</td>\n",
       "      <td>102.070863</td>\n",
       "      <td>217.389748</td>\n",
       "      <td>5.974922</td>\n",
       "      <td>2001.322658</td>\n",
       "      <td>1.755104e+07</td>\n",
       "      <td>5.136436e+07</td>\n",
       "    </tr>\n",
       "    <tr>\n",
       "      <th>std</th>\n",
       "      <td>92130.136561</td>\n",
       "      <td>1.000185</td>\n",
       "      <td>3.091321e+07</td>\n",
       "      <td>1.170035e+08</td>\n",
       "      <td>31.381405</td>\n",
       "      <td>575.619058</td>\n",
       "      <td>0.935142</td>\n",
       "      <td>12.812941</td>\n",
       "      <td>3.430616e+07</td>\n",
       "      <td>1.446325e+08</td>\n",
       "    </tr>\n",
       "    <tr>\n",
       "      <th>min</th>\n",
       "      <td>5.000000</td>\n",
       "      <td>0.000065</td>\n",
       "      <td>0.000000e+00</td>\n",
       "      <td>0.000000e+00</td>\n",
       "      <td>0.000000</td>\n",
       "      <td>10.000000</td>\n",
       "      <td>1.500000</td>\n",
       "      <td>1960.000000</td>\n",
       "      <td>0.000000e+00</td>\n",
       "      <td>0.000000e+00</td>\n",
       "    </tr>\n",
       "    <tr>\n",
       "      <th>25%</th>\n",
       "      <td>10596.250000</td>\n",
       "      <td>0.207583</td>\n",
       "      <td>0.000000e+00</td>\n",
       "      <td>0.000000e+00</td>\n",
       "      <td>90.000000</td>\n",
       "      <td>17.000000</td>\n",
       "      <td>5.400000</td>\n",
       "      <td>1995.000000</td>\n",
       "      <td>0.000000e+00</td>\n",
       "      <td>0.000000e+00</td>\n",
       "    </tr>\n",
       "    <tr>\n",
       "      <th>50%</th>\n",
       "      <td>20669.000000</td>\n",
       "      <td>0.383856</td>\n",
       "      <td>0.000000e+00</td>\n",
       "      <td>0.000000e+00</td>\n",
       "      <td>99.000000</td>\n",
       "      <td>38.000000</td>\n",
       "      <td>6.000000</td>\n",
       "      <td>2006.000000</td>\n",
       "      <td>0.000000e+00</td>\n",
       "      <td>0.000000e+00</td>\n",
       "    </tr>\n",
       "    <tr>\n",
       "      <th>75%</th>\n",
       "      <td>75610.000000</td>\n",
       "      <td>0.713817</td>\n",
       "      <td>1.500000e+07</td>\n",
       "      <td>2.400000e+07</td>\n",
       "      <td>111.000000</td>\n",
       "      <td>145.750000</td>\n",
       "      <td>6.600000</td>\n",
       "      <td>2011.000000</td>\n",
       "      <td>2.085325e+07</td>\n",
       "      <td>3.369710e+07</td>\n",
       "    </tr>\n",
       "    <tr>\n",
       "      <th>max</th>\n",
       "      <td>417859.000000</td>\n",
       "      <td>32.985763</td>\n",
       "      <td>4.250000e+08</td>\n",
       "      <td>2.781506e+09</td>\n",
       "      <td>900.000000</td>\n",
       "      <td>9767.000000</td>\n",
       "      <td>9.200000</td>\n",
       "      <td>2015.000000</td>\n",
       "      <td>4.250000e+08</td>\n",
       "      <td>2.827124e+09</td>\n",
       "    </tr>\n",
       "  </tbody>\n",
       "</table>\n",
       "</div>"
      ],
      "text/plain": [
       "                  id    popularity        budget       revenue       runtime  \\\n",
       "count   10866.000000  10866.000000  1.086600e+04  1.086600e+04  10866.000000   \n",
       "mean    66064.177434      0.646441  1.462570e+07  3.982332e+07    102.070863   \n",
       "std     92130.136561      1.000185  3.091321e+07  1.170035e+08     31.381405   \n",
       "min         5.000000      0.000065  0.000000e+00  0.000000e+00      0.000000   \n",
       "25%     10596.250000      0.207583  0.000000e+00  0.000000e+00     90.000000   \n",
       "50%     20669.000000      0.383856  0.000000e+00  0.000000e+00     99.000000   \n",
       "75%     75610.000000      0.713817  1.500000e+07  2.400000e+07    111.000000   \n",
       "max    417859.000000     32.985763  4.250000e+08  2.781506e+09    900.000000   \n",
       "\n",
       "         vote_count  vote_average  release_year    budget_adj   revenue_adj  \n",
       "count  10866.000000  10866.000000  10866.000000  1.086600e+04  1.086600e+04  \n",
       "mean     217.389748      5.974922   2001.322658  1.755104e+07  5.136436e+07  \n",
       "std      575.619058      0.935142     12.812941  3.430616e+07  1.446325e+08  \n",
       "min       10.000000      1.500000   1960.000000  0.000000e+00  0.000000e+00  \n",
       "25%       17.000000      5.400000   1995.000000  0.000000e+00  0.000000e+00  \n",
       "50%       38.000000      6.000000   2006.000000  0.000000e+00  0.000000e+00  \n",
       "75%      145.750000      6.600000   2011.000000  2.085325e+07  3.369710e+07  \n",
       "max     9767.000000      9.200000   2015.000000  4.250000e+08  2.827124e+09  "
      ]
     },
     "execution_count": 5,
     "metadata": {},
     "output_type": "execute_result"
    }
   ],
   "source": [
    "dfm.describe() # return summary statistics of the dataframe for values which are numeric"
   ]
  },
  {
   "cell_type": "markdown",
   "id": "c93b6176",
   "metadata": {},
   "source": [
    "We can quickly see the overview of dataframe and be able to draw some quick insights like we notice that in some of categories except id column which it shouldn't have been included in this summary had 0 as their minimum values meaning there were some entries which had those values. We can also note that budget and revenue had valueas which need to be investigate because min, 25%, and 50% has zero values."
   ]
  },
  {
   "cell_type": "code",
   "execution_count": 6,
   "id": "9867ccab",
   "metadata": {},
   "outputs": [
    {
     "name": "stdout",
     "output_type": "stream",
     "text": [
      "<class 'pandas.core.frame.DataFrame'>\n",
      "RangeIndex: 10866 entries, 0 to 10865\n",
      "Data columns (total 21 columns):\n",
      " #   Column                Non-Null Count  Dtype  \n",
      "---  ------                --------------  -----  \n",
      " 0   id                    10866 non-null  int64  \n",
      " 1   imdb_id               10856 non-null  object \n",
      " 2   popularity            10866 non-null  float64\n",
      " 3   budget                10866 non-null  int64  \n",
      " 4   revenue               10866 non-null  int64  \n",
      " 5   original_title        10866 non-null  object \n",
      " 6   cast                  10790 non-null  object \n",
      " 7   homepage              2936 non-null   object \n",
      " 8   director              10822 non-null  object \n",
      " 9   tagline               8042 non-null   object \n",
      " 10  keywords              9373 non-null   object \n",
      " 11  overview              10862 non-null  object \n",
      " 12  runtime               10866 non-null  int64  \n",
      " 13  genres                10843 non-null  object \n",
      " 14  production_companies  9836 non-null   object \n",
      " 15  release_date          10866 non-null  object \n",
      " 16  vote_count            10866 non-null  int64  \n",
      " 17  vote_average          10866 non-null  float64\n",
      " 18  release_year          10866 non-null  int64  \n",
      " 19  budget_adj            10866 non-null  float64\n",
      " 20  revenue_adj           10866 non-null  float64\n",
      "dtypes: float64(4), int64(6), object(11)\n",
      "memory usage: 1.7+ MB\n"
     ]
    }
   ],
   "source": [
    "dfm.info() # shows the overview of the the dataframe"
   ]
  },
  {
   "cell_type": "markdown",
   "id": "50644541",
   "metadata": {},
   "source": [
    "We can notice that cast, homepage, director, tagline, keywords, overview, genres and production companies columns have missing values. Also release_date and release year have be assigned datatypes of string and integer respectively instead of datetime data type. This will be adddressed in data cleaning and wrangling section."
   ]
  },
  {
   "cell_type": "code",
   "execution_count": 7,
   "id": "a27d4a94",
   "metadata": {},
   "outputs": [
    {
     "data": {
      "text/plain": [
       "1"
      ]
     },
     "execution_count": 7,
     "metadata": {},
     "output_type": "execute_result"
    }
   ],
   "source": [
    "dfm.duplicated().sum() # returns the number of duplicated entries in the movies dataframe."
   ]
  },
  {
   "cell_type": "markdown",
   "id": "e7b113b7",
   "metadata": {},
   "source": [
    "This dataframe has 1 duplicated entry and it will be important to address this issue in next section"
   ]
  },
  {
   "cell_type": "markdown",
   "id": "1214e9af",
   "metadata": {},
   "source": [
    "# Section 2 : Data Cleaning and wrangling\n",
    "The purpose of this section is to prepare dataframes by removing bad values, Renaming some columns, removing some irrevant columns with respect to questions posed, removing duplicates, filling or removing missing values. Merging and spliting some columns. Fixing datatypes and lastly merging datasets."
   ]
  },
  {
   "cell_type": "code",
   "execution_count": 8,
   "id": "b5a250ed",
   "metadata": {},
   "outputs": [],
   "source": [
    "# I need to drop irrelevat columns for my queatsions.\n",
    "dfm = dfm.drop(['id','imdb_id','budget','revenue','original_title','homepage','tagline','overview', 'keywords'], axis=1)"
   ]
  },
  {
   "cell_type": "code",
   "execution_count": 9,
   "id": "9bdcdee4",
   "metadata": {},
   "outputs": [
    {
     "data": {
      "text/plain": [
       "(10866, 12)"
      ]
     },
     "execution_count": 9,
     "metadata": {},
     "output_type": "execute_result"
    }
   ],
   "source": [
    "#let us confirm the shape\n",
    "dfm.shape"
   ]
  },
  {
   "cell_type": "markdown",
   "id": "67c635fe",
   "metadata": {},
   "source": [
    "You can see that I have removed 9 columns"
   ]
  },
  {
   "cell_type": "code",
   "execution_count": 10,
   "id": "9c00ec7c",
   "metadata": {},
   "outputs": [
    {
     "name": "stdout",
     "output_type": "stream",
     "text": [
      "<class 'pandas.core.frame.DataFrame'>\n",
      "RangeIndex: 10866 entries, 0 to 10865\n",
      "Data columns (total 12 columns):\n",
      " #   Column                Non-Null Count  Dtype  \n",
      "---  ------                --------------  -----  \n",
      " 0   popularity            10866 non-null  float64\n",
      " 1   cast                  10790 non-null  object \n",
      " 2   director              10822 non-null  object \n",
      " 3   runtime               10866 non-null  int64  \n",
      " 4   genres                10843 non-null  object \n",
      " 5   production_companies  9836 non-null   object \n",
      " 6   release_date          10866 non-null  object \n",
      " 7   vote_count            10866 non-null  int64  \n",
      " 8   vote_average          10866 non-null  float64\n",
      " 9   release_year          10866 non-null  int64  \n",
      " 10  budget_adj            10866 non-null  float64\n",
      " 11  revenue_adj           10866 non-null  float64\n",
      "dtypes: float64(4), int64(3), object(5)\n",
      "memory usage: 1018.8+ KB\n"
     ]
    }
   ],
   "source": [
    "dfm.info()"
   ]
  },
  {
   "cell_type": "code",
   "execution_count": 11,
   "id": "3b0dd0a8",
   "metadata": {},
   "outputs": [
    {
     "data": {
      "text/plain": [
       "popularity                 0\n",
       "cast                      76\n",
       "director                  44\n",
       "runtime                    0\n",
       "genres                    23\n",
       "production_companies    1030\n",
       "release_date               0\n",
       "vote_count                 0\n",
       "vote_average               0\n",
       "release_year               0\n",
       "budget_adj                 0\n",
       "revenue_adj                0\n",
       "dtype: int64"
      ]
     },
     "execution_count": 11,
     "metadata": {},
     "output_type": "execute_result"
    }
   ],
   "source": [
    "dfm.isnull().sum()"
   ]
  },
  {
   "cell_type": "markdown",
   "id": "f801ba9a",
   "metadata": {},
   "source": [
    "It is important that I drop any rows that have null values for effective analysis"
   ]
  },
  {
   "cell_type": "code",
   "execution_count": 12,
   "id": "9cdba378",
   "metadata": {},
   "outputs": [],
   "source": [
    "# drops all rows that have null values\n",
    "dfm.dropna(inplace=True)"
   ]
  },
  {
   "cell_type": "code",
   "execution_count": 13,
   "id": "162ea71e",
   "metadata": {},
   "outputs": [
    {
     "data": {
      "text/plain": [
       "popularity              0\n",
       "cast                    0\n",
       "director                0\n",
       "runtime                 0\n",
       "genres                  0\n",
       "production_companies    0\n",
       "release_date            0\n",
       "vote_count              0\n",
       "vote_average            0\n",
       "release_year            0\n",
       "budget_adj              0\n",
       "revenue_adj             0\n",
       "dtype: int64"
      ]
     },
     "execution_count": 13,
     "metadata": {},
     "output_type": "execute_result"
    }
   ],
   "source": [
    "# confirm if we don't any null value\n",
    "dfm.isnull().sum()"
   ]
  },
  {
   "cell_type": "code",
   "execution_count": 14,
   "id": "d4e45707",
   "metadata": {},
   "outputs": [
    {
     "name": "stdout",
     "output_type": "stream",
     "text": [
      "<class 'pandas.core.frame.DataFrame'>\n",
      "Int64Index: 9773 entries, 0 to 10865\n",
      "Data columns (total 12 columns):\n",
      " #   Column                Non-Null Count  Dtype  \n",
      "---  ------                --------------  -----  \n",
      " 0   popularity            9773 non-null   float64\n",
      " 1   cast                  9773 non-null   object \n",
      " 2   director              9773 non-null   object \n",
      " 3   runtime               9773 non-null   int64  \n",
      " 4   genres                9773 non-null   object \n",
      " 5   production_companies  9773 non-null   object \n",
      " 6   release_date          9773 non-null   object \n",
      " 7   vote_count            9773 non-null   int64  \n",
      " 8   vote_average          9773 non-null   float64\n",
      " 9   release_year          9773 non-null   int64  \n",
      " 10  budget_adj            9773 non-null   float64\n",
      " 11  revenue_adj           9773 non-null   float64\n",
      "dtypes: float64(4), int64(3), object(5)\n",
      "memory usage: 992.6+ KB\n"
     ]
    }
   ],
   "source": [
    "dfm.info()"
   ]
  },
  {
   "cell_type": "markdown",
   "id": "65d4f405",
   "metadata": {},
   "source": [
    "We can see that dropping null values has affect the shape of dataset but it is critical for effective analysis"
   ]
  },
  {
   "cell_type": "markdown",
   "id": "8bb91d2c",
   "metadata": {},
   "source": [
    "The following line puts Cast, genres and production companies values into a proper list"
   ]
  },
  {
   "cell_type": "code",
   "execution_count": 15,
   "id": "c6a992b4",
   "metadata": {},
   "outputs": [],
   "source": [
    "ndfm=dfm.copy()\n",
    "ndfm['cast']=ndfm['cast'].str.split('|')\n",
    "ndfm['genres']=ndfm['genres'].str.split('|')\n",
    "ndfm['production_companies']=ndfm['production_companies'].str.split('|')"
   ]
  },
  {
   "cell_type": "code",
   "execution_count": 16,
   "id": "2b096336",
   "metadata": {},
   "outputs": [],
   "source": [
    "ndfm['release_date']=pd.to_datetime(ndfm['release_date'],dayfirst=True)"
   ]
  },
  {
   "cell_type": "code",
   "execution_count": 17,
   "id": "6fe85494",
   "metadata": {},
   "outputs": [],
   "source": [
    "ndfm['release_year']=pd.to_datetime(ndfm['release_year'],yearfirst=True)"
   ]
  },
  {
   "cell_type": "code",
   "execution_count": 18,
   "id": "d086a3e1",
   "metadata": {},
   "outputs": [],
   "source": [
    "udfm=ndfm.copy()"
   ]
  },
  {
   "cell_type": "code",
   "execution_count": 19,
   "id": "a44f6ca1",
   "metadata": {},
   "outputs": [],
   "source": [
    "udfm['release_month']=udfm['release_date'].dt.month\n",
    "udfm['released_year']=udfm['release_date'].dt.year"
   ]
  },
  {
   "cell_type": "code",
   "execution_count": 20,
   "id": "a61884ca",
   "metadata": {
    "scrolled": true
   },
   "outputs": [],
   "source": [
    "udfm['profit']=udfm['revenue_adj']-udfm['budget_adj']"
   ]
  },
  {
   "cell_type": "code",
   "execution_count": 21,
   "id": "fe0b5345",
   "metadata": {},
   "outputs": [
    {
     "data": {
      "text/html": [
       "<div>\n",
       "<style scoped>\n",
       "    .dataframe tbody tr th:only-of-type {\n",
       "        vertical-align: middle;\n",
       "    }\n",
       "\n",
       "    .dataframe tbody tr th {\n",
       "        vertical-align: top;\n",
       "    }\n",
       "\n",
       "    .dataframe thead th {\n",
       "        text-align: right;\n",
       "    }\n",
       "</style>\n",
       "<table border=\"1\" class=\"dataframe\">\n",
       "  <thead>\n",
       "    <tr style=\"text-align: right;\">\n",
       "      <th></th>\n",
       "      <th>popularity</th>\n",
       "      <th>cast</th>\n",
       "      <th>director</th>\n",
       "      <th>runtime</th>\n",
       "      <th>genres</th>\n",
       "      <th>production_companies</th>\n",
       "      <th>release_date</th>\n",
       "      <th>vote_count</th>\n",
       "      <th>vote_average</th>\n",
       "      <th>release_year</th>\n",
       "      <th>budget_adj</th>\n",
       "      <th>revenue_adj</th>\n",
       "      <th>release_month</th>\n",
       "      <th>released_year</th>\n",
       "      <th>profit</th>\n",
       "    </tr>\n",
       "  </thead>\n",
       "  <tbody>\n",
       "    <tr>\n",
       "      <th>0</th>\n",
       "      <td>32.985763</td>\n",
       "      <td>[Chris Pratt, Bryce Dallas Howard, Irrfan Khan...</td>\n",
       "      <td>Colin Trevorrow</td>\n",
       "      <td>124</td>\n",
       "      <td>[Action, Adventure, Science Fiction, Thriller]</td>\n",
       "      <td>[Universal Studios, Amblin Entertainment, Lege...</td>\n",
       "      <td>2015-09-06</td>\n",
       "      <td>5562</td>\n",
       "      <td>6.5</td>\n",
       "      <td>1970-01-01 00:00:00.000002015</td>\n",
       "      <td>1.379999e+08</td>\n",
       "      <td>1.392446e+09</td>\n",
       "      <td>9</td>\n",
       "      <td>2015</td>\n",
       "      <td>1.254446e+09</td>\n",
       "    </tr>\n",
       "    <tr>\n",
       "      <th>1</th>\n",
       "      <td>28.419936</td>\n",
       "      <td>[Tom Hardy, Charlize Theron, Hugh Keays-Byrne,...</td>\n",
       "      <td>George Miller</td>\n",
       "      <td>120</td>\n",
       "      <td>[Action, Adventure, Science Fiction, Thriller]</td>\n",
       "      <td>[Village Roadshow Pictures, Kennedy Miller Pro...</td>\n",
       "      <td>2015-05-13</td>\n",
       "      <td>6185</td>\n",
       "      <td>7.1</td>\n",
       "      <td>1970-01-01 00:00:00.000002015</td>\n",
       "      <td>1.379999e+08</td>\n",
       "      <td>3.481613e+08</td>\n",
       "      <td>5</td>\n",
       "      <td>2015</td>\n",
       "      <td>2.101614e+08</td>\n",
       "    </tr>\n",
       "    <tr>\n",
       "      <th>2</th>\n",
       "      <td>13.112507</td>\n",
       "      <td>[Shailene Woodley, Theo James, Kate Winslet, A...</td>\n",
       "      <td>Robert Schwentke</td>\n",
       "      <td>119</td>\n",
       "      <td>[Adventure, Science Fiction, Thriller]</td>\n",
       "      <td>[Summit Entertainment, Mandeville Films, Red W...</td>\n",
       "      <td>2015-03-18</td>\n",
       "      <td>2480</td>\n",
       "      <td>6.3</td>\n",
       "      <td>1970-01-01 00:00:00.000002015</td>\n",
       "      <td>1.012000e+08</td>\n",
       "      <td>2.716190e+08</td>\n",
       "      <td>3</td>\n",
       "      <td>2015</td>\n",
       "      <td>1.704191e+08</td>\n",
       "    </tr>\n",
       "    <tr>\n",
       "      <th>3</th>\n",
       "      <td>11.173104</td>\n",
       "      <td>[Harrison Ford, Mark Hamill, Carrie Fisher, Ad...</td>\n",
       "      <td>J.J. Abrams</td>\n",
       "      <td>136</td>\n",
       "      <td>[Action, Adventure, Science Fiction, Fantasy]</td>\n",
       "      <td>[Lucasfilm, Truenorth Productions, Bad Robot]</td>\n",
       "      <td>2015-12-15</td>\n",
       "      <td>5292</td>\n",
       "      <td>7.5</td>\n",
       "      <td>1970-01-01 00:00:00.000002015</td>\n",
       "      <td>1.839999e+08</td>\n",
       "      <td>1.902723e+09</td>\n",
       "      <td>12</td>\n",
       "      <td>2015</td>\n",
       "      <td>1.718723e+09</td>\n",
       "    </tr>\n",
       "    <tr>\n",
       "      <th>4</th>\n",
       "      <td>9.335014</td>\n",
       "      <td>[Vin Diesel, Paul Walker, Jason Statham, Miche...</td>\n",
       "      <td>James Wan</td>\n",
       "      <td>137</td>\n",
       "      <td>[Action, Crime, Thriller]</td>\n",
       "      <td>[Universal Pictures, Original Film, Media Righ...</td>\n",
       "      <td>2015-01-04</td>\n",
       "      <td>2947</td>\n",
       "      <td>7.3</td>\n",
       "      <td>1970-01-01 00:00:00.000002015</td>\n",
       "      <td>1.747999e+08</td>\n",
       "      <td>1.385749e+09</td>\n",
       "      <td>1</td>\n",
       "      <td>2015</td>\n",
       "      <td>1.210949e+09</td>\n",
       "    </tr>\n",
       "    <tr>\n",
       "      <th>...</th>\n",
       "      <td>...</td>\n",
       "      <td>...</td>\n",
       "      <td>...</td>\n",
       "      <td>...</td>\n",
       "      <td>...</td>\n",
       "      <td>...</td>\n",
       "      <td>...</td>\n",
       "      <td>...</td>\n",
       "      <td>...</td>\n",
       "      <td>...</td>\n",
       "      <td>...</td>\n",
       "      <td>...</td>\n",
       "      <td>...</td>\n",
       "      <td>...</td>\n",
       "      <td>...</td>\n",
       "    </tr>\n",
       "    <tr>\n",
       "      <th>10861</th>\n",
       "      <td>0.080598</td>\n",
       "      <td>[Michael Hynson, Robert August, Lord 'Tally Ho...</td>\n",
       "      <td>Bruce Brown</td>\n",
       "      <td>95</td>\n",
       "      <td>[Documentary]</td>\n",
       "      <td>[Bruce Brown Films]</td>\n",
       "      <td>2066-06-15</td>\n",
       "      <td>11</td>\n",
       "      <td>7.4</td>\n",
       "      <td>1970-01-01 00:00:00.000001966</td>\n",
       "      <td>0.000000e+00</td>\n",
       "      <td>0.000000e+00</td>\n",
       "      <td>6</td>\n",
       "      <td>2066</td>\n",
       "      <td>0.000000e+00</td>\n",
       "    </tr>\n",
       "    <tr>\n",
       "      <th>10862</th>\n",
       "      <td>0.065543</td>\n",
       "      <td>[James Garner, Eva Marie Saint, Yves Montand, ...</td>\n",
       "      <td>John Frankenheimer</td>\n",
       "      <td>176</td>\n",
       "      <td>[Action, Adventure, Drama]</td>\n",
       "      <td>[Cherokee Productions, Joel Productions, Dougl...</td>\n",
       "      <td>2066-12-21</td>\n",
       "      <td>20</td>\n",
       "      <td>5.7</td>\n",
       "      <td>1970-01-01 00:00:00.000001966</td>\n",
       "      <td>0.000000e+00</td>\n",
       "      <td>0.000000e+00</td>\n",
       "      <td>12</td>\n",
       "      <td>2066</td>\n",
       "      <td>0.000000e+00</td>\n",
       "    </tr>\n",
       "    <tr>\n",
       "      <th>10863</th>\n",
       "      <td>0.065141</td>\n",
       "      <td>[Innokentiy Smoktunovskiy, Oleg Efremov, Georg...</td>\n",
       "      <td>Eldar Ryazanov</td>\n",
       "      <td>94</td>\n",
       "      <td>[Mystery, Comedy]</td>\n",
       "      <td>[Mosfilm]</td>\n",
       "      <td>2066-01-01</td>\n",
       "      <td>11</td>\n",
       "      <td>6.5</td>\n",
       "      <td>1970-01-01 00:00:00.000001966</td>\n",
       "      <td>0.000000e+00</td>\n",
       "      <td>0.000000e+00</td>\n",
       "      <td>1</td>\n",
       "      <td>2066</td>\n",
       "      <td>0.000000e+00</td>\n",
       "    </tr>\n",
       "    <tr>\n",
       "      <th>10864</th>\n",
       "      <td>0.064317</td>\n",
       "      <td>[Tatsuya Mihashi, Akiko Wakabayashi, Mie Hama,...</td>\n",
       "      <td>Woody Allen</td>\n",
       "      <td>80</td>\n",
       "      <td>[Action, Comedy]</td>\n",
       "      <td>[Benedict Pictures Corp.]</td>\n",
       "      <td>2066-02-11</td>\n",
       "      <td>22</td>\n",
       "      <td>5.4</td>\n",
       "      <td>1970-01-01 00:00:00.000001966</td>\n",
       "      <td>0.000000e+00</td>\n",
       "      <td>0.000000e+00</td>\n",
       "      <td>2</td>\n",
       "      <td>2066</td>\n",
       "      <td>0.000000e+00</td>\n",
       "    </tr>\n",
       "    <tr>\n",
       "      <th>10865</th>\n",
       "      <td>0.035919</td>\n",
       "      <td>[Harold P. Warren, Tom Neyman, John Reynolds, ...</td>\n",
       "      <td>Harold P. Warren</td>\n",
       "      <td>74</td>\n",
       "      <td>[Horror]</td>\n",
       "      <td>[Norm-Iris]</td>\n",
       "      <td>2066-11-15</td>\n",
       "      <td>15</td>\n",
       "      <td>1.5</td>\n",
       "      <td>1970-01-01 00:00:00.000001966</td>\n",
       "      <td>1.276423e+05</td>\n",
       "      <td>0.000000e+00</td>\n",
       "      <td>11</td>\n",
       "      <td>2066</td>\n",
       "      <td>-1.276423e+05</td>\n",
       "    </tr>\n",
       "  </tbody>\n",
       "</table>\n",
       "<p>9773 rows × 15 columns</p>\n",
       "</div>"
      ],
      "text/plain": [
       "       popularity                                               cast  \\\n",
       "0       32.985763  [Chris Pratt, Bryce Dallas Howard, Irrfan Khan...   \n",
       "1       28.419936  [Tom Hardy, Charlize Theron, Hugh Keays-Byrne,...   \n",
       "2       13.112507  [Shailene Woodley, Theo James, Kate Winslet, A...   \n",
       "3       11.173104  [Harrison Ford, Mark Hamill, Carrie Fisher, Ad...   \n",
       "4        9.335014  [Vin Diesel, Paul Walker, Jason Statham, Miche...   \n",
       "...           ...                                                ...   \n",
       "10861    0.080598  [Michael Hynson, Robert August, Lord 'Tally Ho...   \n",
       "10862    0.065543  [James Garner, Eva Marie Saint, Yves Montand, ...   \n",
       "10863    0.065141  [Innokentiy Smoktunovskiy, Oleg Efremov, Georg...   \n",
       "10864    0.064317  [Tatsuya Mihashi, Akiko Wakabayashi, Mie Hama,...   \n",
       "10865    0.035919  [Harold P. Warren, Tom Neyman, John Reynolds, ...   \n",
       "\n",
       "                 director  runtime  \\\n",
       "0         Colin Trevorrow      124   \n",
       "1           George Miller      120   \n",
       "2        Robert Schwentke      119   \n",
       "3             J.J. Abrams      136   \n",
       "4               James Wan      137   \n",
       "...                   ...      ...   \n",
       "10861         Bruce Brown       95   \n",
       "10862  John Frankenheimer      176   \n",
       "10863      Eldar Ryazanov       94   \n",
       "10864         Woody Allen       80   \n",
       "10865    Harold P. Warren       74   \n",
       "\n",
       "                                               genres  \\\n",
       "0      [Action, Adventure, Science Fiction, Thriller]   \n",
       "1      [Action, Adventure, Science Fiction, Thriller]   \n",
       "2              [Adventure, Science Fiction, Thriller]   \n",
       "3       [Action, Adventure, Science Fiction, Fantasy]   \n",
       "4                           [Action, Crime, Thriller]   \n",
       "...                                               ...   \n",
       "10861                                   [Documentary]   \n",
       "10862                      [Action, Adventure, Drama]   \n",
       "10863                               [Mystery, Comedy]   \n",
       "10864                                [Action, Comedy]   \n",
       "10865                                        [Horror]   \n",
       "\n",
       "                                    production_companies release_date  \\\n",
       "0      [Universal Studios, Amblin Entertainment, Lege...   2015-09-06   \n",
       "1      [Village Roadshow Pictures, Kennedy Miller Pro...   2015-05-13   \n",
       "2      [Summit Entertainment, Mandeville Films, Red W...   2015-03-18   \n",
       "3          [Lucasfilm, Truenorth Productions, Bad Robot]   2015-12-15   \n",
       "4      [Universal Pictures, Original Film, Media Righ...   2015-01-04   \n",
       "...                                                  ...          ...   \n",
       "10861                                [Bruce Brown Films]   2066-06-15   \n",
       "10862  [Cherokee Productions, Joel Productions, Dougl...   2066-12-21   \n",
       "10863                                          [Mosfilm]   2066-01-01   \n",
       "10864                          [Benedict Pictures Corp.]   2066-02-11   \n",
       "10865                                        [Norm-Iris]   2066-11-15   \n",
       "\n",
       "       vote_count  vote_average                  release_year    budget_adj  \\\n",
       "0            5562           6.5 1970-01-01 00:00:00.000002015  1.379999e+08   \n",
       "1            6185           7.1 1970-01-01 00:00:00.000002015  1.379999e+08   \n",
       "2            2480           6.3 1970-01-01 00:00:00.000002015  1.012000e+08   \n",
       "3            5292           7.5 1970-01-01 00:00:00.000002015  1.839999e+08   \n",
       "4            2947           7.3 1970-01-01 00:00:00.000002015  1.747999e+08   \n",
       "...           ...           ...                           ...           ...   \n",
       "10861          11           7.4 1970-01-01 00:00:00.000001966  0.000000e+00   \n",
       "10862          20           5.7 1970-01-01 00:00:00.000001966  0.000000e+00   \n",
       "10863          11           6.5 1970-01-01 00:00:00.000001966  0.000000e+00   \n",
       "10864          22           5.4 1970-01-01 00:00:00.000001966  0.000000e+00   \n",
       "10865          15           1.5 1970-01-01 00:00:00.000001966  1.276423e+05   \n",
       "\n",
       "        revenue_adj  release_month  released_year        profit  \n",
       "0      1.392446e+09              9           2015  1.254446e+09  \n",
       "1      3.481613e+08              5           2015  2.101614e+08  \n",
       "2      2.716190e+08              3           2015  1.704191e+08  \n",
       "3      1.902723e+09             12           2015  1.718723e+09  \n",
       "4      1.385749e+09              1           2015  1.210949e+09  \n",
       "...             ...            ...            ...           ...  \n",
       "10861  0.000000e+00              6           2066  0.000000e+00  \n",
       "10862  0.000000e+00             12           2066  0.000000e+00  \n",
       "10863  0.000000e+00              1           2066  0.000000e+00  \n",
       "10864  0.000000e+00              2           2066  0.000000e+00  \n",
       "10865  0.000000e+00             11           2066 -1.276423e+05  \n",
       "\n",
       "[9773 rows x 15 columns]"
      ]
     },
     "execution_count": 21,
     "metadata": {},
     "output_type": "execute_result"
    }
   ],
   "source": [
    "udfm"
   ]
  },
  {
   "cell_type": "code",
   "execution_count": 22,
   "id": "091f5d67",
   "metadata": {},
   "outputs": [],
   "source": [
    "workable=udfm.drop(['release_date','release_year','released_year'], axis=1)"
   ]
  },
  {
   "cell_type": "code",
   "execution_count": 23,
   "id": "772a7052",
   "metadata": {},
   "outputs": [],
   "source": [
    "# Now that data has been cleaned and wrangled I need to change dataframe name to meaningful value which is explore_dataframe\n",
    "explore_dataframe=workable.copy()"
   ]
  },
  {
   "cell_type": "markdown",
   "id": "4fe1d252",
   "metadata": {},
   "source": [
    "# Section 3 : Data Exploration By Vizualization\n",
    "This is the section where am going generate different vizualizations so that I can clearly observe the trends in data and be able to get confidence in xplaining the findings based on the questions"
   ]
  },
  {
   "cell_type": "markdown",
   "id": "e01f9c1b",
   "metadata": {},
   "source": [
    "### Bofore I move to questions lets just see something  About Genres, Cast and production companies."
   ]
  },
  {
   "cell_type": "code",
   "execution_count": 24,
   "id": "74337ab8",
   "metadata": {
    "scrolled": false
   },
   "outputs": [
    {
     "data": {
      "text/plain": [
       "[('Drama', 4365),\n",
       " ('Comedy', 3433),\n",
       " ('Thriller', 2747),\n",
       " ('Action', 2236),\n",
       " ('Romance', 1570),\n",
       " ('Horror', 1526),\n",
       " ('Adventure', 1384),\n",
       " ('Crime', 1300),\n",
       " ('Science Fiction', 1137),\n",
       " ('Family', 1095),\n",
       " ('Fantasy', 840),\n",
       " ('Mystery', 773),\n",
       " ('Animation', 617),\n",
       " ('Music', 339),\n",
       " ('Documentary', 317),\n",
       " ('History', 306),\n",
       " ('War', 258),\n",
       " ('Western', 160),\n",
       " ('TV Movie', 132),\n",
       " ('Foreign', 120)]"
      ]
     },
     "execution_count": 24,
     "metadata": {},
     "output_type": "execute_result"
    }
   ],
   "source": [
    "# this line of code counts the number of each genre category in the genre list.\n",
    "from collections import Counter\n",
    "counted_genres = [elem for sublist in workable['genres'] for elem in sublist]\n",
    "fav_genre = Counter(counted_genres).most_common()\n",
    "fav_genre"
   ]
  },
  {
   "cell_type": "code",
   "execution_count": 25,
   "id": "5ef55189",
   "metadata": {},
   "outputs": [
    {
     "data": {
      "text/plain": [
       "Text(0, 0.5, 'Frequency')"
      ]
     },
     "execution_count": 25,
     "metadata": {},
     "output_type": "execute_result"
    },
    {
     "data": {
      "image/png": "[encoded data removed]",
      "text/plain": [
       "<Figure size 432x288 with 1 Axes>"
      ]
     },
     "metadata": {
      "needs_background": "light"
     },
     "output_type": "display_data"
    }
   ],
   "source": [
    "# this is the barplot of genres against its frequency.\n",
    "Plot_genres = pd.DataFrame.from_records(list(dict(fav_genre).items()))\n",
    "Plot_genre = Plot_genres.sort_values(1, ascending=False)\n",
    "plt.xticks(rotation=90)\n",
    "sb.barplot(x=0, y=1, data=Plot_genres)\n",
    "plt.xlabel(\"Genres\")\n",
    "plt.ylabel(\"Frequency\")\n"
   ]
  },
  {
   "cell_type": "markdown",
   "id": "82edaf1e",
   "metadata": {},
   "source": [
    "We can see clearly that genre of the movie has the highest chance of being classified to Drama, followed by Comedy and Thriller. Dramatic and comic genres are mostly produced."
   ]
  },
  {
   "cell_type": "code",
   "execution_count": 26,
   "id": "e042d14b",
   "metadata": {},
   "outputs": [
    {
     "data": {
      "text/plain": [
       "[('Robert De Niro', 72),\n",
       " ('Samuel L. Jackson', 70),\n",
       " ('Bruce Willis', 62),\n",
       " ('Nicolas Cage', 61),\n",
       " ('Michael Caine', 52),\n",
       " ('Robin Williams', 51),\n",
       " ('Morgan Freeman', 49),\n",
       " ('John Goodman', 48),\n",
       " ('John Cusack', 48),\n",
       " ('Liam Neeson', 47)]"
      ]
     },
     "execution_count": 26,
     "metadata": {},
     "output_type": "execute_result"
    }
   ],
   "source": [
    "# I wanted to know which cast appears mostly on the movies. This code pulls the number of the appearance of cast in each movie\n",
    "counted_cast = [elem for sublist in workable['cast'] for elem in sublist]\n",
    "fav_cast = Counter(counted_cast).most_common(10)\n",
    "fav_cast"
   ]
  },
  {
   "cell_type": "code",
   "execution_count": 27,
   "id": "d64306f3",
   "metadata": {},
   "outputs": [
    {
     "data": {
      "text/plain": [
       "Text(0, 0.5, 'Frequency')"
      ]
     },
     "execution_count": 27,
     "metadata": {},
     "output_type": "execute_result"
    },
    {
     "data": {
      "image/png": "[encoded data removed]",
      "text/plain": [
       "<Figure size 432x288 with 1 Axes>"
      ]
     },
     "metadata": {
      "needs_background": "light"
     },
     "output_type": "display_data"
    }
   ],
   "source": [
    "Plot_cast = pd.DataFrame.from_records(list(dict(fav_cast).items()))\n",
    "Plot_casts = Plot_cast.sort_values(1, ascending=False)\n",
    "plt.xticks(rotation=90)\n",
    "sb.barplot(x=0, y=1, data=Plot_cast)\n",
    "plt.xlabel(\"Cast\")\n",
    "plt.ylabel(\"Frequency\")\n"
   ]
  },
  {
   "cell_type": "markdown",
   "id": "61c480f4",
   "metadata": {},
   "source": [
    "Now we can tell that Robert De Niro is the leading making appearence of 72 times in the produced movies followed by Samual L. Jackson then Bruce Willis in the best three appearance category."
   ]
  },
  {
   "cell_type": "code",
   "execution_count": 28,
   "id": "81a2f68a",
   "metadata": {},
   "outputs": [
    {
     "data": {
      "text/plain": [
       "[('Universal Pictures', 522),\n",
       " ('Warner Bros.', 509),\n",
       " ('Paramount Pictures', 431),\n",
       " ('Twentieth Century Fox Film Corporation', 282),\n",
       " ('Columbia Pictures', 272),\n",
       " ('New Line Cinema', 219),\n",
       " ('Metro-Goldwyn-Mayer (MGM)', 218),\n",
       " ('Walt Disney Pictures', 213),\n",
       " ('Touchstone Pictures', 178),\n",
       " ('Columbia Pictures Corporation', 160)]"
      ]
     },
     "execution_count": 28,
     "metadata": {},
     "output_type": "execute_result"
    }
   ],
   "source": [
    "counted_companies = [elem for sublist in workable['production_companies'] for elem in sublist]\n",
    "fav_companies = Counter(counted_companies).most_common(10)\n",
    "fav_companies"
   ]
  },
  {
   "cell_type": "code",
   "execution_count": 29,
   "id": "febb94bf",
   "metadata": {},
   "outputs": [
    {
     "data": {
      "text/plain": [
       "Text(0, 0.5, 'Frequency')"
      ]
     },
     "execution_count": 29,
     "metadata": {},
     "output_type": "execute_result"
    },
    {
     "data": {
      "image/png": "[encoded data removed]",
      "text/plain": [
       "<Figure size 432x288 with 1 Axes>"
      ]
     },
     "metadata": {
      "needs_background": "light"
     },
     "output_type": "display_data"
    }
   ],
   "source": [
    "Plot_companies = pd.DataFrame.from_records(list(dict(fav_companies).items()))\n",
    "Plot_company = Plot_companies.sort_values(1, ascending=False)\n",
    "plt.xticks(rotation=90)\n",
    "sb.barplot(x=0, y=1, data=Plot_companies)\n",
    "plt.xlabel(\"Production Companies\")\n",
    "plt.ylabel(\"Frequency\")"
   ]
  },
  {
   "cell_type": "markdown",
   "id": "093a083c",
   "metadata": {},
   "source": [
    "Universal pictures has produced many movies 522 times when compared to the others followed by Warner Bros. and Paramoun pictures in top 3 category."
   ]
  },
  {
   "cell_type": "markdown",
   "id": "91699b21",
   "metadata": {},
   "source": [
    "# Question 1 : Best Director Awards Campaign"
   ]
  },
  {
   "cell_type": "code",
   "execution_count": 30,
   "id": "f7105900",
   "metadata": {},
   "outputs": [
    {
     "data": {
      "text/html": [
       "<div>\n",
       "<style scoped>\n",
       "    .dataframe tbody tr th:only-of-type {\n",
       "        vertical-align: middle;\n",
       "    }\n",
       "\n",
       "    .dataframe tbody tr th {\n",
       "        vertical-align: top;\n",
       "    }\n",
       "\n",
       "    .dataframe thead th {\n",
       "        text-align: right;\n",
       "    }\n",
       "</style>\n",
       "<table border=\"1\" class=\"dataframe\">\n",
       "  <thead>\n",
       "    <tr style=\"text-align: right;\">\n",
       "      <th></th>\n",
       "      <th>budget_adj</th>\n",
       "      <th>director</th>\n",
       "    </tr>\n",
       "  </thead>\n",
       "  <tbody>\n",
       "    <tr>\n",
       "      <th>2244</th>\n",
       "      <td>4.250000e+08</td>\n",
       "      <td>Sngmoo Lee</td>\n",
       "    </tr>\n",
       "    <tr>\n",
       "      <th>3375</th>\n",
       "      <td>3.683713e+08</td>\n",
       "      <td>Rob Marshall</td>\n",
       "    </tr>\n",
       "    <tr>\n",
       "      <th>7387</th>\n",
       "      <td>3.155006e+08</td>\n",
       "      <td>Gore Verbinski</td>\n",
       "    </tr>\n",
       "    <tr>\n",
       "      <th>6570</th>\n",
       "      <td>2.920507e+08</td>\n",
       "      <td>Bryan Singer</td>\n",
       "    </tr>\n",
       "    <tr>\n",
       "      <th>5231</th>\n",
       "      <td>2.716921e+08</td>\n",
       "      <td>James Cameron</td>\n",
       "    </tr>\n",
       "    <tr>\n",
       "      <th>7394</th>\n",
       "      <td>2.713305e+08</td>\n",
       "      <td>Sam Raimi</td>\n",
       "    </tr>\n",
       "    <tr>\n",
       "      <th>1929</th>\n",
       "      <td>2.600000e+08</td>\n",
       "      <td>Nathan Greno|Byron Howard</td>\n",
       "    </tr>\n",
       "    <tr>\n",
       "      <th>14</th>\n",
       "      <td>2.575999e+08</td>\n",
       "      <td>Joss Whedon</td>\n",
       "    </tr>\n",
       "    <tr>\n",
       "      <th>1389</th>\n",
       "      <td>2.541001e+08</td>\n",
       "      <td>David Yates</td>\n",
       "    </tr>\n",
       "    <tr>\n",
       "      <th>8089</th>\n",
       "      <td>2.504192e+08</td>\n",
       "      <td>Kevin Reynolds</td>\n",
       "    </tr>\n",
       "  </tbody>\n",
       "</table>\n",
       "</div>"
      ],
      "text/plain": [
       "        budget_adj                   director\n",
       "2244  4.250000e+08                 Sngmoo Lee\n",
       "3375  3.683713e+08               Rob Marshall\n",
       "7387  3.155006e+08             Gore Verbinski\n",
       "6570  2.920507e+08               Bryan Singer\n",
       "5231  2.716921e+08              James Cameron\n",
       "7394  2.713305e+08                  Sam Raimi\n",
       "1929  2.600000e+08  Nathan Greno|Byron Howard\n",
       "14    2.575999e+08                Joss Whedon\n",
       "1389  2.541001e+08                David Yates\n",
       "8089  2.504192e+08             Kevin Reynolds"
      ]
     },
     "metadata": {},
     "output_type": "display_data"
    },
    {
     "data": {
      "text/html": [
       "<div>\n",
       "<style scoped>\n",
       "    .dataframe tbody tr th:only-of-type {\n",
       "        vertical-align: middle;\n",
       "    }\n",
       "\n",
       "    .dataframe tbody tr th {\n",
       "        vertical-align: top;\n",
       "    }\n",
       "\n",
       "    .dataframe thead th {\n",
       "        text-align: right;\n",
       "    }\n",
       "</style>\n",
       "<table border=\"1\" class=\"dataframe\">\n",
       "  <thead>\n",
       "    <tr style=\"text-align: right;\">\n",
       "      <th></th>\n",
       "      <th>revenue_adj</th>\n",
       "      <th>director</th>\n",
       "    </tr>\n",
       "  </thead>\n",
       "  <tbody>\n",
       "    <tr>\n",
       "      <th>1386</th>\n",
       "      <td>2.827124e+09</td>\n",
       "      <td>James Cameron</td>\n",
       "    </tr>\n",
       "    <tr>\n",
       "      <th>1329</th>\n",
       "      <td>2.789712e+09</td>\n",
       "      <td>George Lucas</td>\n",
       "    </tr>\n",
       "    <tr>\n",
       "      <th>5231</th>\n",
       "      <td>2.506406e+09</td>\n",
       "      <td>James Cameron</td>\n",
       "    </tr>\n",
       "    <tr>\n",
       "      <th>10594</th>\n",
       "      <td>2.167325e+09</td>\n",
       "      <td>William Friedkin</td>\n",
       "    </tr>\n",
       "    <tr>\n",
       "      <th>9806</th>\n",
       "      <td>1.907006e+09</td>\n",
       "      <td>Steven Spielberg</td>\n",
       "    </tr>\n",
       "    <tr>\n",
       "      <th>3</th>\n",
       "      <td>1.902723e+09</td>\n",
       "      <td>J.J. Abrams</td>\n",
       "    </tr>\n",
       "    <tr>\n",
       "      <th>8889</th>\n",
       "      <td>1.791694e+09</td>\n",
       "      <td>Steven Spielberg</td>\n",
       "    </tr>\n",
       "    <tr>\n",
       "      <th>8094</th>\n",
       "      <td>1.583050e+09</td>\n",
       "      <td>Irwin Winkler</td>\n",
       "    </tr>\n",
       "    <tr>\n",
       "      <th>10110</th>\n",
       "      <td>1.574815e+09</td>\n",
       "      <td>Clyde Geronimi|Hamilton Luske|Wolfgang Reitherman</td>\n",
       "    </tr>\n",
       "    <tr>\n",
       "      <th>4361</th>\n",
       "      <td>1.443191e+09</td>\n",
       "      <td>Joss Whedon</td>\n",
       "    </tr>\n",
       "  </tbody>\n",
       "</table>\n",
       "</div>"
      ],
      "text/plain": [
       "        revenue_adj                                           director\n",
       "1386   2.827124e+09                                      James Cameron\n",
       "1329   2.789712e+09                                       George Lucas\n",
       "5231   2.506406e+09                                      James Cameron\n",
       "10594  2.167325e+09                                   William Friedkin\n",
       "9806   1.907006e+09                                   Steven Spielberg\n",
       "3      1.902723e+09                                        J.J. Abrams\n",
       "8889   1.791694e+09                                   Steven Spielberg\n",
       "8094   1.583050e+09                                      Irwin Winkler\n",
       "10110  1.574815e+09  Clyde Geronimi|Hamilton Luske|Wolfgang Reitherman\n",
       "4361   1.443191e+09                                        Joss Whedon"
      ]
     },
     "metadata": {},
     "output_type": "display_data"
    },
    {
     "data": {
      "text/html": [
       "<div>\n",
       "<style scoped>\n",
       "    .dataframe tbody tr th:only-of-type {\n",
       "        vertical-align: middle;\n",
       "    }\n",
       "\n",
       "    .dataframe tbody tr th {\n",
       "        vertical-align: top;\n",
       "    }\n",
       "\n",
       "    .dataframe thead th {\n",
       "        text-align: right;\n",
       "    }\n",
       "</style>\n",
       "<table border=\"1\" class=\"dataframe\">\n",
       "  <thead>\n",
       "    <tr style=\"text-align: right;\">\n",
       "      <th></th>\n",
       "      <th>profit</th>\n",
       "      <th>director</th>\n",
       "    </tr>\n",
       "  </thead>\n",
       "  <tbody>\n",
       "    <tr>\n",
       "      <th>1329</th>\n",
       "      <td>2.750137e+09</td>\n",
       "      <td>George Lucas</td>\n",
       "    </tr>\n",
       "    <tr>\n",
       "      <th>1386</th>\n",
       "      <td>2.586237e+09</td>\n",
       "      <td>James Cameron</td>\n",
       "    </tr>\n",
       "    <tr>\n",
       "      <th>5231</th>\n",
       "      <td>2.234714e+09</td>\n",
       "      <td>James Cameron</td>\n",
       "    </tr>\n",
       "    <tr>\n",
       "      <th>10594</th>\n",
       "      <td>2.128036e+09</td>\n",
       "      <td>William Friedkin</td>\n",
       "    </tr>\n",
       "    <tr>\n",
       "      <th>9806</th>\n",
       "      <td>1.878643e+09</td>\n",
       "      <td>Steven Spielberg</td>\n",
       "    </tr>\n",
       "    <tr>\n",
       "      <th>8889</th>\n",
       "      <td>1.767968e+09</td>\n",
       "      <td>Steven Spielberg</td>\n",
       "    </tr>\n",
       "    <tr>\n",
       "      <th>3</th>\n",
       "      <td>1.718723e+09</td>\n",
       "      <td>J.J. Abrams</td>\n",
       "    </tr>\n",
       "    <tr>\n",
       "      <th>8094</th>\n",
       "      <td>1.551568e+09</td>\n",
       "      <td>Irwin Winkler</td>\n",
       "    </tr>\n",
       "    <tr>\n",
       "      <th>10110</th>\n",
       "      <td>1.545635e+09</td>\n",
       "      <td>Clyde Geronimi|Hamilton Luske|Wolfgang Reitherman</td>\n",
       "    </tr>\n",
       "    <tr>\n",
       "      <th>7309</th>\n",
       "      <td>1.376998e+09</td>\n",
       "      <td>Irvin Kershner</td>\n",
       "    </tr>\n",
       "  </tbody>\n",
       "</table>\n",
       "</div>"
      ],
      "text/plain": [
       "             profit                                           director\n",
       "1329   2.750137e+09                                       George Lucas\n",
       "1386   2.586237e+09                                      James Cameron\n",
       "5231   2.234714e+09                                      James Cameron\n",
       "10594  2.128036e+09                                   William Friedkin\n",
       "9806   1.878643e+09                                   Steven Spielberg\n",
       "8889   1.767968e+09                                   Steven Spielberg\n",
       "3      1.718723e+09                                        J.J. Abrams\n",
       "8094   1.551568e+09                                      Irwin Winkler\n",
       "10110  1.545635e+09  Clyde Geronimi|Hamilton Luske|Wolfgang Reitherman\n",
       "7309   1.376998e+09                                     Irvin Kershner"
      ]
     },
     "metadata": {},
     "output_type": "display_data"
    }
   ],
   "source": [
    "for category in ['budget_adj', 'revenue_adj', 'profit']:\n",
    "    display(workable[[f'{category}', 'director']].sort_values(f'{category}', ascending=False).head(10))"
   ]
  },
  {
   "cell_type": "markdown",
   "id": "5d8bf381",
   "metadata": {},
   "source": [
    "From the above findings we see that budgeting high would not transpire to higher profitsbut rather if one has higher revenue then it is an indicator of huge profits. For instance George Lucas and William Friendkin are not in the top list of budget but are on the top list of Revenue and profit. \n",
    "To have conclusive statement about these three variables let us see their correlation"
   ]
  },
  {
   "cell_type": "code",
   "execution_count": 31,
   "id": "2c39eedc",
   "metadata": {},
   "outputs": [
    {
     "data": {
      "text/html": [
       "<div>\n",
       "<style scoped>\n",
       "    .dataframe tbody tr th:only-of-type {\n",
       "        vertical-align: middle;\n",
       "    }\n",
       "\n",
       "    .dataframe tbody tr th {\n",
       "        vertical-align: top;\n",
       "    }\n",
       "\n",
       "    .dataframe thead th {\n",
       "        text-align: right;\n",
       "    }\n",
       "</style>\n",
       "<table border=\"1\" class=\"dataframe\">\n",
       "  <thead>\n",
       "    <tr style=\"text-align: right;\">\n",
       "      <th></th>\n",
       "      <th>popularity</th>\n",
       "      <th>runtime</th>\n",
       "      <th>vote_count</th>\n",
       "      <th>vote_average</th>\n",
       "      <th>budget_adj</th>\n",
       "      <th>revenue_adj</th>\n",
       "      <th>release_month</th>\n",
       "      <th>profit</th>\n",
       "    </tr>\n",
       "  </thead>\n",
       "  <tbody>\n",
       "    <tr>\n",
       "      <th>popularity</th>\n",
       "      <td>1.000000</td>\n",
       "      <td>0.156293</td>\n",
       "      <td>0.802956</td>\n",
       "      <td>0.239118</td>\n",
       "      <td>0.505372</td>\n",
       "      <td>0.606457</td>\n",
       "      <td>0.038025</td>\n",
       "      <td>0.561494</td>\n",
       "    </tr>\n",
       "    <tr>\n",
       "      <th>runtime</th>\n",
       "      <td>0.156293</td>\n",
       "      <td>1.000000</td>\n",
       "      <td>0.184291</td>\n",
       "      <td>0.194003</td>\n",
       "      <td>0.249119</td>\n",
       "      <td>0.198319</td>\n",
       "      <td>0.040918</td>\n",
       "      <td>0.160867</td>\n",
       "    </tr>\n",
       "    <tr>\n",
       "      <th>vote_count</th>\n",
       "      <td>0.802956</td>\n",
       "      <td>0.184291</td>\n",
       "      <td>1.000000</td>\n",
       "      <td>0.279858</td>\n",
       "      <td>0.580433</td>\n",
       "      <td>0.704045</td>\n",
       "      <td>0.029758</td>\n",
       "      <td>0.653545</td>\n",
       "    </tr>\n",
       "    <tr>\n",
       "      <th>vote_average</th>\n",
       "      <td>0.239118</td>\n",
       "      <td>0.194003</td>\n",
       "      <td>0.279858</td>\n",
       "      <td>1.000000</td>\n",
       "      <td>0.109750</td>\n",
       "      <td>0.214695</td>\n",
       "      <td>0.050607</td>\n",
       "      <td>0.217538</td>\n",
       "    </tr>\n",
       "    <tr>\n",
       "      <th>budget_adj</th>\n",
       "      <td>0.505372</td>\n",
       "      <td>0.249119</td>\n",
       "      <td>0.580433</td>\n",
       "      <td>0.109750</td>\n",
       "      <td>1.000000</td>\n",
       "      <td>0.640833</td>\n",
       "      <td>0.056010</td>\n",
       "      <td>0.466912</td>\n",
       "    </tr>\n",
       "    <tr>\n",
       "      <th>revenue_adj</th>\n",
       "      <td>0.606457</td>\n",
       "      <td>0.198319</td>\n",
       "      <td>0.704045</td>\n",
       "      <td>0.214695</td>\n",
       "      <td>0.640833</td>\n",
       "      <td>1.000000</td>\n",
       "      <td>0.049011</td>\n",
       "      <td>0.978075</td>\n",
       "    </tr>\n",
       "    <tr>\n",
       "      <th>release_month</th>\n",
       "      <td>0.038025</td>\n",
       "      <td>0.040918</td>\n",
       "      <td>0.029758</td>\n",
       "      <td>0.050607</td>\n",
       "      <td>0.056010</td>\n",
       "      <td>0.049011</td>\n",
       "      <td>1.000000</td>\n",
       "      <td>0.041263</td>\n",
       "    </tr>\n",
       "    <tr>\n",
       "      <th>profit</th>\n",
       "      <td>0.561494</td>\n",
       "      <td>0.160867</td>\n",
       "      <td>0.653545</td>\n",
       "      <td>0.217538</td>\n",
       "      <td>0.466912</td>\n",
       "      <td>0.978075</td>\n",
       "      <td>0.041263</td>\n",
       "      <td>1.000000</td>\n",
       "    </tr>\n",
       "  </tbody>\n",
       "</table>\n",
       "</div>"
      ],
      "text/plain": [
       "               popularity   runtime  vote_count  vote_average  budget_adj  \\\n",
       "popularity       1.000000  0.156293    0.802956      0.239118    0.505372   \n",
       "runtime          0.156293  1.000000    0.184291      0.194003    0.249119   \n",
       "vote_count       0.802956  0.184291    1.000000      0.279858    0.580433   \n",
       "vote_average     0.239118  0.194003    0.279858      1.000000    0.109750   \n",
       "budget_adj       0.505372  0.249119    0.580433      0.109750    1.000000   \n",
       "revenue_adj      0.606457  0.198319    0.704045      0.214695    0.640833   \n",
       "release_month    0.038025  0.040918    0.029758      0.050607    0.056010   \n",
       "profit           0.561494  0.160867    0.653545      0.217538    0.466912   \n",
       "\n",
       "               revenue_adj  release_month    profit  \n",
       "popularity        0.606457       0.038025  0.561494  \n",
       "runtime           0.198319       0.040918  0.160867  \n",
       "vote_count        0.704045       0.029758  0.653545  \n",
       "vote_average      0.214695       0.050607  0.217538  \n",
       "budget_adj        0.640833       0.056010  0.466912  \n",
       "revenue_adj       1.000000       0.049011  0.978075  \n",
       "release_month     0.049011       1.000000  0.041263  \n",
       "profit            0.978075       0.041263  1.000000  "
      ]
     },
     "execution_count": 31,
     "metadata": {},
     "output_type": "execute_result"
    }
   ],
   "source": [
    "correlation= workable.corr()\n",
    "correlation"
   ]
  },
  {
   "cell_type": "markdown",
   "id": "a1b2b92c",
   "metadata": {},
   "source": [
    "Correlation confirms that having higher revenue interprets higher profits when compared to higher budgeting. Also higher budgeting relatively transpire higher revenue. Also vote count and popularity play a role in budgetting, revenue and profit as correlation is relatively stronger.\n",
    "It is clear that having higher vote counts means you are popular. This is supported by stronger correlation."
   ]
  },
  {
   "cell_type": "code",
   "execution_count": 32,
   "id": "d4c5998a",
   "metadata": {},
   "outputs": [
    {
     "data": {
      "text/html": [
       "<div>\n",
       "<style scoped>\n",
       "    .dataframe tbody tr th:only-of-type {\n",
       "        vertical-align: middle;\n",
       "    }\n",
       "\n",
       "    .dataframe tbody tr th {\n",
       "        vertical-align: top;\n",
       "    }\n",
       "\n",
       "    .dataframe thead th {\n",
       "        text-align: right;\n",
       "    }\n",
       "</style>\n",
       "<table border=\"1\" class=\"dataframe\">\n",
       "  <thead>\n",
       "    <tr style=\"text-align: right;\">\n",
       "      <th></th>\n",
       "      <th>popularity</th>\n",
       "      <th>director</th>\n",
       "    </tr>\n",
       "  </thead>\n",
       "  <tbody>\n",
       "    <tr>\n",
       "      <th>0</th>\n",
       "      <td>32.985763</td>\n",
       "      <td>Colin Trevorrow</td>\n",
       "    </tr>\n",
       "    <tr>\n",
       "      <th>1</th>\n",
       "      <td>28.419936</td>\n",
       "      <td>George Miller</td>\n",
       "    </tr>\n",
       "    <tr>\n",
       "      <th>629</th>\n",
       "      <td>24.949134</td>\n",
       "      <td>Christopher Nolan</td>\n",
       "    </tr>\n",
       "    <tr>\n",
       "      <th>630</th>\n",
       "      <td>14.311205</td>\n",
       "      <td>James Gunn</td>\n",
       "    </tr>\n",
       "    <tr>\n",
       "      <th>2</th>\n",
       "      <td>13.112507</td>\n",
       "      <td>Robert Schwentke</td>\n",
       "    </tr>\n",
       "    <tr>\n",
       "      <th>631</th>\n",
       "      <td>12.971027</td>\n",
       "      <td>Joe Russo|Anthony Russo</td>\n",
       "    </tr>\n",
       "    <tr>\n",
       "      <th>1329</th>\n",
       "      <td>12.037933</td>\n",
       "      <td>George Lucas</td>\n",
       "    </tr>\n",
       "    <tr>\n",
       "      <th>632</th>\n",
       "      <td>11.422751</td>\n",
       "      <td>Chad Stahelski|David Leitch</td>\n",
       "    </tr>\n",
       "    <tr>\n",
       "      <th>3</th>\n",
       "      <td>11.173104</td>\n",
       "      <td>J.J. Abrams</td>\n",
       "    </tr>\n",
       "    <tr>\n",
       "      <th>633</th>\n",
       "      <td>10.739009</td>\n",
       "      <td>Francis Lawrence</td>\n",
       "    </tr>\n",
       "  </tbody>\n",
       "</table>\n",
       "</div>"
      ],
      "text/plain": [
       "      popularity                     director\n",
       "0      32.985763              Colin Trevorrow\n",
       "1      28.419936                George Miller\n",
       "629    24.949134            Christopher Nolan\n",
       "630    14.311205                   James Gunn\n",
       "2      13.112507             Robert Schwentke\n",
       "631    12.971027      Joe Russo|Anthony Russo\n",
       "1329   12.037933                 George Lucas\n",
       "632    11.422751  Chad Stahelski|David Leitch\n",
       "3      11.173104                  J.J. Abrams\n",
       "633    10.739009             Francis Lawrence"
      ]
     },
     "metadata": {},
     "output_type": "display_data"
    },
    {
     "data": {
      "text/html": [
       "<div>\n",
       "<style scoped>\n",
       "    .dataframe tbody tr th:only-of-type {\n",
       "        vertical-align: middle;\n",
       "    }\n",
       "\n",
       "    .dataframe tbody tr th {\n",
       "        vertical-align: top;\n",
       "    }\n",
       "\n",
       "    .dataframe thead th {\n",
       "        text-align: right;\n",
       "    }\n",
       "</style>\n",
       "<table border=\"1\" class=\"dataframe\">\n",
       "  <thead>\n",
       "    <tr style=\"text-align: right;\">\n",
       "      <th></th>\n",
       "      <th>vote_count</th>\n",
       "      <th>director</th>\n",
       "    </tr>\n",
       "  </thead>\n",
       "  <tbody>\n",
       "    <tr>\n",
       "      <th>1919</th>\n",
       "      <td>9767</td>\n",
       "      <td>Christopher Nolan</td>\n",
       "    </tr>\n",
       "    <tr>\n",
       "      <th>4361</th>\n",
       "      <td>8903</td>\n",
       "      <td>Joss Whedon</td>\n",
       "    </tr>\n",
       "    <tr>\n",
       "      <th>1386</th>\n",
       "      <td>8458</td>\n",
       "      <td>James Cameron</td>\n",
       "    </tr>\n",
       "    <tr>\n",
       "      <th>2875</th>\n",
       "      <td>8432</td>\n",
       "      <td>Christopher Nolan</td>\n",
       "    </tr>\n",
       "    <tr>\n",
       "      <th>4364</th>\n",
       "      <td>7375</td>\n",
       "      <td>Quentin Tarantino</td>\n",
       "    </tr>\n",
       "    <tr>\n",
       "      <th>4382</th>\n",
       "      <td>7080</td>\n",
       "      <td>Gary Ross</td>\n",
       "    </tr>\n",
       "    <tr>\n",
       "      <th>5425</th>\n",
       "      <td>6882</td>\n",
       "      <td>Shane Black</td>\n",
       "    </tr>\n",
       "    <tr>\n",
       "      <th>4363</th>\n",
       "      <td>6723</td>\n",
       "      <td>Christopher Nolan</td>\n",
       "    </tr>\n",
       "    <tr>\n",
       "      <th>629</th>\n",
       "      <td>6498</td>\n",
       "      <td>Christopher Nolan</td>\n",
       "    </tr>\n",
       "    <tr>\n",
       "      <th>4367</th>\n",
       "      <td>6417</td>\n",
       "      <td>Peter Jackson</td>\n",
       "    </tr>\n",
       "  </tbody>\n",
       "</table>\n",
       "</div>"
      ],
      "text/plain": [
       "      vote_count           director\n",
       "1919        9767  Christopher Nolan\n",
       "4361        8903        Joss Whedon\n",
       "1386        8458      James Cameron\n",
       "2875        8432  Christopher Nolan\n",
       "4364        7375  Quentin Tarantino\n",
       "4382        7080          Gary Ross\n",
       "5425        6882        Shane Black\n",
       "4363        6723  Christopher Nolan\n",
       "629         6498  Christopher Nolan\n",
       "4367        6417      Peter Jackson"
      ]
     },
     "metadata": {},
     "output_type": "display_data"
    },
    {
     "data": {
      "text/html": [
       "<div>\n",
       "<style scoped>\n",
       "    .dataframe tbody tr th:only-of-type {\n",
       "        vertical-align: middle;\n",
       "    }\n",
       "\n",
       "    .dataframe tbody tr th {\n",
       "        vertical-align: top;\n",
       "    }\n",
       "\n",
       "    .dataframe thead th {\n",
       "        text-align: right;\n",
       "    }\n",
       "</style>\n",
       "<table border=\"1\" class=\"dataframe\">\n",
       "  <thead>\n",
       "    <tr style=\"text-align: right;\">\n",
       "      <th></th>\n",
       "      <th>vote_average</th>\n",
       "      <th>director</th>\n",
       "    </tr>\n",
       "  </thead>\n",
       "  <tbody>\n",
       "    <tr>\n",
       "      <th>6911</th>\n",
       "      <td>8.7</td>\n",
       "      <td>David Mallet</td>\n",
       "    </tr>\n",
       "    <tr>\n",
       "      <th>8221</th>\n",
       "      <td>8.5</td>\n",
       "      <td>Martin Scorsese|Michael Henry Wilson</td>\n",
       "    </tr>\n",
       "    <tr>\n",
       "      <th>8411</th>\n",
       "      <td>8.5</td>\n",
       "      <td>Saul Swimmer</td>\n",
       "    </tr>\n",
       "    <tr>\n",
       "      <th>3690</th>\n",
       "      <td>8.5</td>\n",
       "      <td>Curt Morgan</td>\n",
       "    </tr>\n",
       "    <tr>\n",
       "      <th>4178</th>\n",
       "      <td>8.4</td>\n",
       "      <td>Frank Darabont</td>\n",
       "    </tr>\n",
       "    <tr>\n",
       "      <th>609</th>\n",
       "      <td>8.4</td>\n",
       "      <td>Andrew Jarecki</td>\n",
       "    </tr>\n",
       "    <tr>\n",
       "      <th>5986</th>\n",
       "      <td>8.4</td>\n",
       "      <td>Jorge RamÃ­rez SuÃ¡rez</td>\n",
       "    </tr>\n",
       "    <tr>\n",
       "      <th>7948</th>\n",
       "      <td>8.4</td>\n",
       "      <td>Jonathan Demme</td>\n",
       "    </tr>\n",
       "    <tr>\n",
       "      <th>3310</th>\n",
       "      <td>8.3</td>\n",
       "      <td>Kurt Kuenne</td>\n",
       "    </tr>\n",
       "    <tr>\n",
       "      <th>7269</th>\n",
       "      <td>8.3</td>\n",
       "      <td>Francis Ford Coppola</td>\n",
       "    </tr>\n",
       "  </tbody>\n",
       "</table>\n",
       "</div>"
      ],
      "text/plain": [
       "      vote_average                              director\n",
       "6911           8.7                          David Mallet\n",
       "8221           8.5  Martin Scorsese|Michael Henry Wilson\n",
       "8411           8.5                          Saul Swimmer\n",
       "3690           8.5                           Curt Morgan\n",
       "4178           8.4                        Frank Darabont\n",
       "609            8.4                        Andrew Jarecki\n",
       "5986           8.4                Jorge RamÃ­rez SuÃ¡rez\n",
       "7948           8.4                        Jonathan Demme\n",
       "3310           8.3                           Kurt Kuenne\n",
       "7269           8.3                  Francis Ford Coppola"
      ]
     },
     "metadata": {},
     "output_type": "display_data"
    }
   ],
   "source": [
    "for category in ['popularity', 'vote_count', 'vote_average']:\n",
    "    display(workable[[f'{category}', 'director']].sort_values(f'{category}', ascending=False).head(10))"
   ]
  },
  {
   "cell_type": "markdown",
   "id": "ef0c2144",
   "metadata": {},
   "source": [
    "# Question 2 : Best part of the year to release movie"
   ]
  },
  {
   "cell_type": "code",
   "execution_count": 33,
   "id": "656986bc",
   "metadata": {},
   "outputs": [
    {
     "data": {
      "text/html": [
       "<div>\n",
       "<style scoped>\n",
       "    .dataframe tbody tr th:only-of-type {\n",
       "        vertical-align: middle;\n",
       "    }\n",
       "\n",
       "    .dataframe tbody tr th {\n",
       "        vertical-align: top;\n",
       "    }\n",
       "\n",
       "    .dataframe thead th {\n",
       "        text-align: right;\n",
       "    }\n",
       "</style>\n",
       "<table border=\"1\" class=\"dataframe\">\n",
       "  <thead>\n",
       "    <tr style=\"text-align: right;\">\n",
       "      <th></th>\n",
       "      <th>Month</th>\n",
       "      <th>Number of movies</th>\n",
       "    </tr>\n",
       "  </thead>\n",
       "  <tbody>\n",
       "    <tr>\n",
       "      <th>0</th>\n",
       "      <td>1</td>\n",
       "      <td>1022</td>\n",
       "    </tr>\n",
       "    <tr>\n",
       "      <th>1</th>\n",
       "      <td>9</td>\n",
       "      <td>960</td>\n",
       "    </tr>\n",
       "    <tr>\n",
       "      <th>2</th>\n",
       "      <td>10</td>\n",
       "      <td>938</td>\n",
       "    </tr>\n",
       "    <tr>\n",
       "      <th>3</th>\n",
       "      <td>12</td>\n",
       "      <td>922</td>\n",
       "    </tr>\n",
       "    <tr>\n",
       "      <th>4</th>\n",
       "      <td>7</td>\n",
       "      <td>824</td>\n",
       "    </tr>\n",
       "    <tr>\n",
       "      <th>5</th>\n",
       "      <td>8</td>\n",
       "      <td>808</td>\n",
       "    </tr>\n",
       "    <tr>\n",
       "      <th>6</th>\n",
       "      <td>5</td>\n",
       "      <td>788</td>\n",
       "    </tr>\n",
       "    <tr>\n",
       "      <th>7</th>\n",
       "      <td>6</td>\n",
       "      <td>783</td>\n",
       "    </tr>\n",
       "    <tr>\n",
       "      <th>8</th>\n",
       "      <td>11</td>\n",
       "      <td>758</td>\n",
       "    </tr>\n",
       "    <tr>\n",
       "      <th>9</th>\n",
       "      <td>3</td>\n",
       "      <td>697</td>\n",
       "    </tr>\n",
       "    <tr>\n",
       "      <th>10</th>\n",
       "      <td>4</td>\n",
       "      <td>693</td>\n",
       "    </tr>\n",
       "    <tr>\n",
       "      <th>11</th>\n",
       "      <td>2</td>\n",
       "      <td>580</td>\n",
       "    </tr>\n",
       "  </tbody>\n",
       "</table>\n",
       "</div>"
      ],
      "text/plain": [
       "    Month  Number of movies\n",
       "0       1              1022\n",
       "1       9               960\n",
       "2      10               938\n",
       "3      12               922\n",
       "4       7               824\n",
       "5       8               808\n",
       "6       5               788\n",
       "7       6               783\n",
       "8      11               758\n",
       "9       3               697\n",
       "10      4               693\n",
       "11      2               580"
      ]
     },
     "execution_count": 33,
     "metadata": {},
     "output_type": "execute_result"
    }
   ],
   "source": [
    "release_season = pd.DataFrame({\"Month\":workable[\"release_month\"].value_counts().keys(), \"Number of movies\":workable[\"release_month\"].value_counts().values})\n",
    "release_season"
   ]
  },
  {
   "cell_type": "code",
   "execution_count": 34,
   "id": "dc4c5575",
   "metadata": {},
   "outputs": [
    {
     "data": {
      "image/png": "[encoded data removed]",
      "text/plain": [
       "<Figure size 1080x504 with 1 Axes>"
      ]
     },
     "metadata": {
      "needs_background": "light"
     },
     "output_type": "display_data"
    }
   ],
   "source": [
    "plt.figure(figsize=(15,7))\n",
    "plt.bar(release_season[\"Month\"],release_season[\"Number of movies\"])\n",
    "plt.xlabel(\"Month\",fontsize=15)\n",
    "plt.ylabel(\"Number of movies\",fontsize=15)\n",
    "plt.title(\"Number of movies produced in each month\", fontsize=15)\n",
    "plt.show()"
   ]
  },
  {
   "cell_type": "code",
   "execution_count": 35,
   "id": "1ee3ac3c",
   "metadata": {},
   "outputs": [],
   "source": [
    "def display_barplot(variable,ylabels,titles):\n",
    "   \"\"\"\n",
    "    This function plots a bar chart and takes 3 arguments which is first is variable which represents data for plotting, \n",
    "    second is ylabels whichs takes values for ylabel property of chart and lastly is titles which takes the values of title\n",
    "    property of a chart.\n",
    "    The purpose of this function to eliminate code repeat as I will be using matplotlib several times\n",
    "   \"\"\"\n",
    "   plot_value = variable.plot(kind='bar',title=titles,ylabel=ylabels,xlabel='Release month',figsize=(10,6))\n",
    "   return (plot_value)\n"
   ]
  },
  {
   "cell_type": "markdown",
   "id": "03d72d9f",
   "metadata": {},
   "source": [
    "The chart above shows that Junuary is when most movies are released and Fubruary having least number of movies being produced."
   ]
  },
  {
   "cell_type": "code",
   "execution_count": 36,
   "id": "7591a570",
   "metadata": {},
   "outputs": [
    {
     "data": {
      "text/plain": [
       "release_month\n",
       "1     1.191900e+07\n",
       "2     1.861674e+07\n",
       "3     1.761328e+07\n",
       "4     1.673765e+07\n",
       "5     2.426480e+07\n",
       "6     2.608458e+07\n",
       "7     2.306014e+07\n",
       "8     1.430005e+07\n",
       "9     1.555086e+07\n",
       "10    1.765112e+07\n",
       "11    2.553442e+07\n",
       "12    2.382531e+07\n",
       "Name: budget_adj, dtype: float64"
      ]
     },
     "execution_count": 36,
     "metadata": {},
     "output_type": "execute_result"
    }
   ],
   "source": [
    "monthly_budget = workable.groupby('release_month')['budget_adj'].mean()\n",
    "monthly_budget"
   ]
  },
  {
   "cell_type": "code",
   "execution_count": 37,
   "id": "ad5baa75",
   "metadata": {},
   "outputs": [
    {
     "data": {
      "image/png": "[encoded data removed]",
      "text/plain": [
       "<Figure size 720x432 with 1 Axes>"
      ]
     },
     "metadata": {
      "needs_background": "light"
     },
     "output_type": "display_data"
    }
   ],
   "source": [
    "# Calling display_barplot function with relevant arguments to plot our desired plot\n",
    "display_barplot(monthly_budget,'Monthly average budget of movies for production','monthly avarage budget');"
   ]
  },
  {
   "cell_type": "markdown",
   "id": "24524722",
   "metadata": {},
   "source": [
    "June is the most budgeted month for movie production followed closely by November and January being the lowest month being budgeted"
   ]
  },
  {
   "cell_type": "code",
   "execution_count": 38,
   "id": "1d6cf7de",
   "metadata": {},
   "outputs": [
    {
     "data": {
      "text/plain": [
       "release_month\n",
       "1     3.388648e+07\n",
       "2     4.063840e+07\n",
       "3     5.551415e+07\n",
       "4     4.029175e+07\n",
       "5     8.191840e+07\n",
       "6     8.707209e+07\n",
       "7     6.924067e+07\n",
       "8     3.451595e+07\n",
       "9     4.039223e+07\n",
       "10    4.554290e+07\n",
       "11    8.061367e+07\n",
       "12    7.856043e+07\n",
       "Name: revenue_adj, dtype: float64"
      ]
     },
     "execution_count": 38,
     "metadata": {},
     "output_type": "execute_result"
    }
   ],
   "source": [
    "monthly_revenue = workable.groupby('release_month')['revenue_adj'].mean()\n",
    "monthly_revenue"
   ]
  },
  {
   "cell_type": "code",
   "execution_count": 39,
   "id": "31810b62",
   "metadata": {},
   "outputs": [
    {
     "data": {
      "image/png": "[encoded data removed]",
      "text/plain": [
       "<Figure size 720x432 with 1 Axes>"
      ]
     },
     "metadata": {
      "needs_background": "light"
     },
     "output_type": "display_data"
    }
   ],
   "source": [
    "# Calling display_barplot function with relevant arguments to plot our desired plot\n",
    "display_barplot(monthly_revenue,'Monthly average revenue of movies for production','monthly avarage revemue');"
   ]
  },
  {
   "cell_type": "markdown",
   "id": "3232a396",
   "metadata": {},
   "source": [
    "There is a pick in revenue in the month of June and november while in January and August it is lowest"
   ]
  },
  {
   "cell_type": "code",
   "execution_count": 40,
   "id": "c584e33f",
   "metadata": {},
   "outputs": [
    {
     "data": {
      "text/plain": [
       "release_month\n",
       "1     2.196748e+07\n",
       "2     2.202165e+07\n",
       "3     3.790088e+07\n",
       "4     2.355411e+07\n",
       "5     5.765361e+07\n",
       "6     6.098751e+07\n",
       "7     4.618052e+07\n",
       "8     2.021589e+07\n",
       "9     2.484137e+07\n",
       "10    2.789178e+07\n",
       "11    5.507924e+07\n",
       "12    5.473512e+07\n",
       "Name: profit, dtype: float64"
      ]
     },
     "execution_count": 40,
     "metadata": {},
     "output_type": "execute_result"
    }
   ],
   "source": [
    "monthly_profit = workable.groupby('release_month')['profit'].mean()\n",
    "monthly_profit"
   ]
  },
  {
   "cell_type": "code",
   "execution_count": 41,
   "id": "b25831cc",
   "metadata": {},
   "outputs": [
    {
     "data": {
      "image/png": "[encoded data removed]",
      "text/plain": [
       "<Figure size 720x432 with 1 Axes>"
      ]
     },
     "metadata": {
      "needs_background": "light"
     },
     "output_type": "display_data"
    }
   ],
   "source": [
    "# Calling display_barplot function with relevant arguments to plot our desired plot\n",
    "display_barplot(monthly_profit,'Monthly average profit of movies for production','monthly avarage profit');"
   ]
  },
  {
   "cell_type": "markdown",
   "id": "1c7d7846",
   "metadata": {},
   "source": [
    "In the months of  May, June, November and December the profits are high which in the monhts of January, February and August having lowest."
   ]
  },
  {
   "cell_type": "code",
   "execution_count": 42,
   "id": "d94cad14",
   "metadata": {},
   "outputs": [],
   "source": [
    "#chenging datatype of release month to string for the purpose good classification by hue attribute in seaborn\n",
    "workable['release_month']=workable['release_month'].astype(str)"
   ]
  },
  {
   "cell_type": "code",
   "execution_count": 43,
   "id": "f6438ded",
   "metadata": {
    "scrolled": true
   },
   "outputs": [
    {
     "data": {
      "image/png": "[encoded data removed]",
      "text/plain": [
       "<Figure size 1080x576 with 1 Axes>"
      ]
     },
     "metadata": {
      "needs_background": "light"
     },
     "output_type": "display_data"
    }
   ],
   "source": [
    "plt.figure(figsize=(15, 8))\n",
    "sb.set_style('darkgrid')\n",
    "sb.scatterplot(data=workable, x=\"budget_adj\", y=\"profit\", hue=\"release_month\");"
   ]
  },
  {
   "cell_type": "code",
   "execution_count": 44,
   "id": "db4f3e45",
   "metadata": {},
   "outputs": [],
   "source": [
    "# changing back the release month datatype to string\n",
    "workable['release_month']=workable['release_month'].astype(int)"
   ]
  },
  {
   "cell_type": "code",
   "execution_count": 45,
   "id": "45b4dd27",
   "metadata": {},
   "outputs": [
    {
     "data": {
      "text/plain": [
       "release_month\n",
       "1      99.937378\n",
       "2     104.356897\n",
       "3     102.708752\n",
       "4     100.404040\n",
       "5     104.906091\n",
       "6     103.586207\n",
       "7     102.035194\n",
       "8     100.372525\n",
       "9     103.985417\n",
       "10    100.488273\n",
       "11    104.236148\n",
       "12    108.473970\n",
       "Name: runtime, dtype: float64"
      ]
     },
     "execution_count": 45,
     "metadata": {},
     "output_type": "execute_result"
    }
   ],
   "source": [
    "monthly_runtime = workable.groupby('release_month')['runtime'].mean()\n",
    "monthly_runtime"
   ]
  },
  {
   "cell_type": "code",
   "execution_count": 46,
   "id": "18a0123c",
   "metadata": {
    "scrolled": true
   },
   "outputs": [
    {
     "data": {
      "image/png": "[encoded data removed]",
      "text/plain": [
       "<Figure size 720x432 with 1 Axes>"
      ]
     },
     "metadata": {},
     "output_type": "display_data"
    }
   ],
   "source": [
    "# Calling display_barplot function with relevant arguments to plot our desired plot\n",
    "display_barplot(monthly_runtime,'Monthly average runtime of movies ','monthly avarage runtime');"
   ]
  },
  {
   "cell_type": "markdown",
   "id": "2173e026",
   "metadata": {},
   "source": [
    "In terms of movie runtime there is no significant diffence."
   ]
  },
  {
   "cell_type": "code",
   "execution_count": 47,
   "id": "37b2d042",
   "metadata": {},
   "outputs": [
    {
     "data": {
      "text/plain": [
       "release_month\n",
       "1     0.545258\n",
       "2     0.649634\n",
       "3     0.700896\n",
       "4     0.602629\n",
       "5     0.840042\n",
       "6     0.767585\n",
       "7     0.750221\n",
       "8     0.593185\n",
       "9     0.652144\n",
       "10    0.730669\n",
       "11    0.792554\n",
       "12    0.733831\n",
       "Name: popularity, dtype: float64"
      ]
     },
     "execution_count": 47,
     "metadata": {},
     "output_type": "execute_result"
    }
   ],
   "source": [
    "monthly_popularity = workable.groupby('release_month')['popularity'].mean()\n",
    "monthly_popularity"
   ]
  },
  {
   "cell_type": "code",
   "execution_count": 48,
   "id": "cda043ed",
   "metadata": {},
   "outputs": [
    {
     "data": {
      "image/png": "[encoded data removed]",
      "text/plain": [
       "<Figure size 720x432 with 1 Axes>"
      ]
     },
     "metadata": {},
     "output_type": "display_data"
    }
   ],
   "source": [
    "# Calling display_barplot function with relevant arguments to plot our desired plot\n",
    "display_barplot(monthly_popularity,'Monthly average popularity for movies','monthly avarage popularity');"
   ]
  },
  {
   "cell_type": "markdown",
   "id": "4efffd05",
   "metadata": {},
   "source": [
    "Movies produced in the month of May are Most popular followed closely by November while in January and August being least popular"
   ]
  },
  {
   "cell_type": "code",
   "execution_count": 49,
   "id": "8249d498",
   "metadata": {},
   "outputs": [
    {
     "data": {
      "text/plain": [
       "release_month\n",
       "1     163.690802\n",
       "2     207.713793\n",
       "3     226.741750\n",
       "4     197.313131\n",
       "5     330.675127\n",
       "6     300.759898\n",
       "7     293.898058\n",
       "8     169.855198\n",
       "9     198.905208\n",
       "10    247.616205\n",
       "11    289.317942\n",
       "12    258.271150\n",
       "Name: vote_count, dtype: float64"
      ]
     },
     "execution_count": 49,
     "metadata": {},
     "output_type": "execute_result"
    }
   ],
   "source": [
    "monthly_votecount = workable.groupby('release_month')['vote_count'].mean()\n",
    "monthly_votecount"
   ]
  },
  {
   "cell_type": "code",
   "execution_count": 50,
   "id": "755574b9",
   "metadata": {},
   "outputs": [
    {
     "data": {
      "image/png": "[encoded data removed]",
      "text/plain": [
       "<Figure size 720x432 with 1 Axes>"
      ]
     },
     "metadata": {},
     "output_type": "display_data"
    }
   ],
   "source": [
    "# Calling display_barplot function with relevant arguments to plot our desired plot\n",
    "display_barplot(monthly_votecount,'Monthly average votecount for movies','monthly avarage votecount');"
   ]
  },
  {
   "cell_type": "markdown",
   "id": "5ab00219",
   "metadata": {},
   "source": [
    "Most voted movies are those release in the month of May and June while in January and August being voted least"
   ]
  },
  {
   "cell_type": "markdown",
   "id": "14a308a0",
   "metadata": {},
   "source": [
    "# Report\n",
    "Based on the above charts we can see that there is similar picks trends in the Months of May, June, July, November and December while in the months of January and August having the least. \n",
    "I was able to used only bar charts for vizualization because of the nature of my data of consideration.\n",
    "### Limitation.\n",
    "Production companies variable had the most missing values and it was useful for some part of my analysis. With the nature of its data type there is no way to fill them hence there was need to drop and it affected the structure of my data significantly. With more than 1000 rows being dropped I would say my data didn't really reflect what it is suppose to.\n",
    "Vizualizing by using scatter plot would bear so much evidence about the relationship of variables which I needed to generate correlation table so that I could get supporting and reliable evidence.\n",
    "My major platform for reference was Kaggle where was the source of dataset where I looked at some of worked examples, I also made reference to stackoverflow and towardsdatascience sites as listed bellow\n",
    "https://www.kaggle.com/code/shanmuhapriyaaraju/assignment1\n",
    "https://stackoverflow.com/questions/40353519/how-to-apply-custom-function-to-pandas-data-frame-for-each-row\n",
    "https://towardsdatascience.com/applying-custom-functions-to-groups-of-data-in-pandas-928d7eece0aa"
   ]
  }
 ],
 "metadata": {
  "kernelspec": {
   "display_name": "Python [conda env:project1] *",
   "language": "python",
   "name": "conda-env-project1-py"
  },
  "language_info": {
   "codemirror_mode": {
    "name": "ipython",
    "version": 3
   },
   "file_extension": ".py",
   "mimetype": "text/x-python",
   "name": "python",
   "nbconvert_exporter": "python",
   "pygments_lexer": "ipython3",
   "version": "3.6.13"
  }
 },
 "nbformat": 4,
 "nbformat_minor": 5
}
